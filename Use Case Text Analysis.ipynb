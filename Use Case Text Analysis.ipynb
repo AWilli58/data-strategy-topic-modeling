{
 "cells": [
  {
   "cell_type": "code",
   "execution_count": 1,
   "metadata": {},
   "outputs": [
    {
     "name": "stderr",
     "output_type": "stream",
     "text": [
      "/anaconda/lib/python3.6/importlib/_bootstrap.py:219: RuntimeWarning: numpy.dtype size changed, may indicate binary incompatibility. Expected 96, got 88\n",
      "  return f(*args, **kwds)\n",
      "/anaconda/lib/python3.6/importlib/_bootstrap.py:219: RuntimeWarning: numpy.ufunc size changed, may indicate binary incompatibility. Expected 192, got 176\n",
      "  return f(*args, **kwds)\n",
      "/anaconda/lib/python3.6/importlib/_bootstrap.py:219: RuntimeWarning: numpy.dtype size changed, may indicate binary incompatibility. Expected 96, got 88\n",
      "  return f(*args, **kwds)\n",
      "/anaconda/lib/python3.6/importlib/_bootstrap.py:219: RuntimeWarning: numpy.ufunc size changed, may indicate binary incompatibility. Expected 192, got 176\n",
      "  return f(*args, **kwds)\n"
     ]
    }
   ],
   "source": [
    "from spacy.lang.en import English\n",
    "import nltk\n",
    "from nltk.corpus import wordnet as wn\n",
    "import pandas as pd\n",
    "from gensim import corpora\n",
    "from nltk.stem.wordnet import WordNetLemmatizer\n",
    "import pickle\n",
    "import gensim\n",
    "import pyLDAvis.gensim\n",
    "from bs4 import BeautifulSoup\n",
    "from nltk.tokenize.toktok import ToktokTokenizer\n",
    "import enchant\n",
    "import contractions\n",
    "import re\n",
    "import numpy as np\n",
    "import matplotlib.pyplot as plt\n",
    "from itertools import product\n",
    "from gensim.test.utils import datapath\n",
    "from gensim.models.word2vec import Text8Corpus\n",
    "from gensim.models.phrases import Phrases, Phraser\n",
    "import os\n",
    "from collections import Counter\n",
    "import warnings\n",
    "from docx import Document\n",
    "from docx.shared import Inches\n",
    "warnings.filterwarnings('ignore')"
   ]
  },
  {
   "cell_type": "markdown",
   "metadata": {},
   "source": [
    "# Import Data"
   ]
  },
  {
   "cell_type": "code",
   "execution_count": 2,
   "metadata": {},
   "outputs": [],
   "source": [
    "comments_df = pd.read_excel(r'assets/Federal Data Strategy Comments_UsecaseTaggingAssignments_CombinedAll_v2.xlsx',\n",
    "                           sheet_name='All Comments',\n",
    "                           usecols=11)\n",
    "\n",
    "def upper_apply(x):\n",
    "    \"\"\"\n",
    "    Converts strings to uppercase, conserving nan values. Meant to be applied to pandas df column.\n",
    "    \"\"\"\n",
    "    if x is not np.nan:\n",
    "        return str(x).upper()\n",
    "    else:\n",
    "        return np.nan\n",
    "\n",
    "comments_df['Principle'] = comments_df['Principle'].apply(upper_apply)\n",
    "comments_df['Best Practice'] = comments_df['Best Practice'].apply(upper_apply)\n",
    "comments_df['Use Case'] = comments_df['Use Case'].apply(upper_apply)\n",
    "comments_df['Mechanism'] = comments_df['Mechanism'].apply(upper_apply)\n",
    "comments_df['Other'] = comments_df['Other'].apply(upper_apply)\n",
    "comments_df['Exclude'] = comments_df['Exclude'].apply(upper_apply)\n",
    "\n",
    "df = comments_df[(comments_df[\"Exclude\"] != \"X\")&((comments_df['Use Case'] == \"X\"))].dropna(subset=['Instance']).reset_index().drop(labels='index',axis=1)"
   ]
  },
  {
   "cell_type": "markdown",
   "metadata": {},
   "source": [
    "# Text Cleaning\n",
    "We'll use the following function to clean our texts and return a list of tokens:"
   ]
  },
  {
   "cell_type": "code",
   "execution_count": 3,
   "metadata": {},
   "outputs": [],
   "source": [
    "raw_text = df['Instance'].tolist()"
   ]
  },
  {
   "cell_type": "code",
   "execution_count": 4,
   "metadata": {},
   "outputs": [],
   "source": [
    "def clean(doc, spellcheck=True):\n",
    "    \"\"\"\n",
    "    Prepares text for NLP by stripping html tags, urls, email addresses, and misspellings.\n",
    "    It also expands contractions and lowercases everything. Finally, it only keeps words that \n",
    "    are at least three characters long, do not contain a number, and are no more than 17 chars long.\n",
    "    \n",
    "    Arguments:\n",
    "        doc (str): A single instance of feedback.\n",
    "        spellcheck (bool): Whether or not to use the enchant library to strip misspellings.\n",
    "        \n",
    "    Returns:\n",
    "        normalized (str): The normalized string.\n",
    "    \"\"\"\n",
    "    \n",
    "    def strip_html_tags(text):\n",
    "        soup = BeautifulSoup(text, \"html.parser\")\n",
    "        stripped_text = soup.get_text()\n",
    "        return stripped_text\n",
    "\n",
    "    def strip_urls(text):\n",
    "        #url regex\n",
    "        url_re = re.compile(r\"\"\"(?i)\\b((?:https?://|www\\d{0,3}[.]|[a-z0-9.\\-]+[.][a-z]{2,4}/)(?:[^\\s()<>]+|\\(([^\\s()<>]+|(\\([^\\s()<>]+\\)))*\\))+(?:\\(([^\\s()<>]+|(\\([^\\s()<>]+\\)))*\\)|[^\\s`!()\\[\\]{};:'\".,<>?«»“”‘’]))\"\"\")\n",
    "        stripped_text = url_re.sub('',text)\n",
    "        return stripped_text\n",
    "\n",
    "    def strip_emails(text):\n",
    "        #email address regex\n",
    "        email_re = re.compile(r'(^[a-zA-Z0-9_.+-]+@[a-zA-Z0-9-]+\\.[a-zA-Z0-9-.]+$)')\n",
    "        stripped_text = email_re.sub('',text)\n",
    "        return stripped_text\n",
    "\n",
    "    def strip_nonsense(text):\n",
    "        # leave words that are at least three characters long, do not contain a number, and are no more \n",
    "        # than 17 chars long\n",
    "        no_nonsense = re.findall(r'\\b[a-z][a-z][a-z]+\\b',text)\n",
    "        stripped_text = ' '.join(w for w in no_nonsense if w != 'nan' and len(w) <= 17)\n",
    "        return stripped_text\n",
    "\n",
    "    def expand_contractions(text, contraction_mapping=contractions.contractions_dict):\n",
    "\n",
    "            contractions_pattern = re.compile('({})'.format('|'.join(contraction_mapping.keys())),\n",
    "                                              flags=re.IGNORECASE|re.DOTALL)\n",
    "            def expand_match(contraction):\n",
    "                match = contraction.group(0)\n",
    "                first_char = match[0]\n",
    "                if contraction_mapping.get(match):\n",
    "                    expanded_contraction = contraction_mapping.get(match)\n",
    "                else:\n",
    "                    expanded_contraction = contraction_mapping.get(match.lower())\n",
    "                if expanded_contraction:\n",
    "                    expanded_contraction = first_char+expanded_contraction[1:]\n",
    "                    return expanded_contraction\n",
    "                else:\n",
    "                    pass\n",
    "\n",
    "            expanded_text = contractions_pattern.sub(expand_match, text)\n",
    "            expanded_text = re.sub(\"'\", \"\", expanded_text)\n",
    "            return expanded_text\n",
    "\n",
    "    def strip_misspellings(text):\n",
    "        d = enchant.Dict(\"en_US\")\n",
    "        words_to_add = ['api','git','github','apis']\n",
    "        for w in words_to_add:\n",
    "            d.add(w)\n",
    "        \n",
    "        tokenizer = ToktokTokenizer()\n",
    "        tokens = tokenizer.tokenize(text)\n",
    "        non_dict_words = set([word for word in tokens if d.check(word) is False and re.match('^[a-zA-Z ]*$',word)])\n",
    "        stripped_text = \" \".join([x for x in tokens if x not in non_dict_words])\n",
    "        return stripped_text\n",
    "    \n",
    "    doc = doc.lower()\n",
    "    contraction_free = expand_contractions(doc)\n",
    "    tag_free = strip_html_tags(contraction_free)\n",
    "    url_free = strip_urls(tag_free)\n",
    "    email_free = strip_emails(url_free)\n",
    "    if spellcheck:\n",
    "        misspelling_free = strip_misspellings(email_free)\n",
    "        normalized = strip_nonsense(misspelling_free)\n",
    "\n",
    "    else:\n",
    "        normalized = strip_nonsense(email_free)\n",
    "    \n",
    "    return normalized"
   ]
  },
  {
   "cell_type": "markdown",
   "metadata": {},
   "source": [
    "# Tokenization"
   ]
  },
  {
   "cell_type": "code",
   "execution_count": 6,
   "metadata": {},
   "outputs": [],
   "source": [
    "def tokenize(text):\n",
    "    \"\"\"\n",
    "    Tokenizes a string.\n",
    "    \n",
    "    Arguments:\n",
    "        text (str):  Text to tokenize.\n",
    "     \n",
    "    Returns:\n",
    "        lda_tokens (list): a list of tokens\n",
    "    \"\"\"\n",
    "    parser = English()\n",
    "    lda_tokens = []\n",
    "    tokens = parser(text)\n",
    "    for token in tokens:\n",
    "        if token.orth_.isspace():\n",
    "            continue\n",
    "        else:\n",
    "            lda_tokens.append(token.lower_)\n",
    "    return lda_tokens"
   ]
  },
  {
   "cell_type": "code",
   "execution_count": 7,
   "metadata": {},
   "outputs": [],
   "source": [
    "def get_lemma(word):\n",
    "    '''\n",
    "    Uses WordNetLemmatizer to get the lemma for each token.\n",
    "    \n",
    "    Arugments:\n",
    "        token (str): a single token (i.e. word)\n",
    "        \n",
    "    Returns:\n",
    "        lemma (str): the token's lemma.\n",
    "    '''\n",
    "    lemma = wn.morphy(word)\n",
    "    if lemma is None:\n",
    "        return word\n",
    "    elif 'research' in lemma:\n",
    "        return 'research'\n",
    "    elif 'dataset' in lemma:\n",
    "        return 'dataset'\n",
    "    else:\n",
    "        return lemma\n",
    "    \n"
   ]
  },
  {
   "cell_type": "code",
   "execution_count": 8,
   "metadata": {},
   "outputs": [],
   "source": [
    "def prepare_text_for_lda(text, lemma = True, remove_extra_stopwords=True):\n",
    "    '''\n",
    "    Prepares text of latent dirichlet allocation by cleaning documents with clean(),\n",
    "    tokenize documents with tokenize(), removing stopwords, and lemmatizing. Optionally,\n",
    "    you can expand the stopword list and/or use stemming instead of lemmatizing.\n",
    "    \n",
    "    Arguments:\n",
    "        text (str): a single instance of feedback (i.e. one document)\n",
    "        lemma (bool): Whether or not to use lemmas. Default True. If False, stem.\n",
    "        remove_extra_stopwords (bool): Whether or not to expand nltk stopword list with\n",
    "            user-defined stopwords. Highly advised.\n",
    "        \n",
    "    Returns:\n",
    "        tokens (list): a list of lemmas\n",
    "    \n",
    "    '''\n",
    "    \n",
    "    en_stop = set(nltk.corpus.stopwords.words('english'))\n",
    "    other_stopwords = ['process','better','governance','form','create','identify','liked','across','support','within','level','project',\n",
    "                   'exist','file','quality','example','privacy','public','policy','readable','require','availability','national','emerge',\n",
    "                   'using','college','improve','well','one','critical','include','key','air','state','high_priority','potential',\n",
    "                   'stakeholder','source','develop','information','help','solution','machine','private','available','research','meta',\n",
    "                   'liking','data','service_third','text','via','open','sector','use','change','also','need','standard','business',\n",
    "                   'would','rate','making','continue','provide','pre_can','enable','issue','verify','product','randomize_evaluation',\n",
    "                   'management','enterprise','language','outcome','real_time','strategy','access','small','agency','release','allow',\n",
    "                   'solution_fill','evaluation','apply','best','local','want','randomize','scorecard','case','set','entity','ensure',\n",
    "                   'mission','many_different','ass','user','datasets','government','work','system','decision','exchange','real','likes',\n",
    "                   'security','individual','administration','post','important','new','time','among','federal','analysis','could','practice',\n",
    "                   'common','unite','make','times','like','protect','organization','program','base','list','tool','different','must',\n",
    "                   'resource','multiple','result','share','sharing','record','study','relate','link','platform','may','obtain','effort',\n",
    "                   'focus','regard','build','contain','easy','reduce','impact','group','current','receive','area','advance','inform',\n",
    "                   'additionally','bulk','combine','team','utilize','found','find','approach','idea','significant','address','say','id',\n",
    "                   'firm','report','application','measure','understand','center','analyze','format','sample','match','high','host','single',\n",
    "                   'utilizer','vocabulary','elements','aim','involve','ways','increase','large','goal','third','site','move','etc','often',\n",
    "                   'implement','office','phase','table','problem','trend','annual','specific','dive','cross','many','plan','interest']\n",
    "    \n",
    "    clean_text = clean(text)\n",
    "    tokens = tokenize(clean_text)\n",
    "    tokens = [token for token in tokens if token not in en_stop]\n",
    "    \n",
    "    if remove_extra_stopwords:\n",
    "        other_stopwords = set(other_stopwords)\n",
    "        #stems to remove\n",
    "        useless_stems = set(['agenc','public','govern','feder','data','would'])\n",
    "        \n",
    "        if lemma:\n",
    "            tokens = [get_lemma(token) for token in tokens]\n",
    "            tokens = [token for token in tokens if token not in other_stopwords]\n",
    "        else:\n",
    "            stemmer = nltk.stem.SnowballStemmer('english')\n",
    "            tokens = [stemmer.stem(token) for token in tokens]\n",
    "            tokens = [token for token in tokens if token not in useless_stems]\n",
    "        \n",
    "    else:\n",
    "        if lemma:\n",
    "            tokens = [get_lemma(token) for token in tokens]\n",
    "        else:\n",
    "            stemmer = nltk.stem.SnowballStemmer('english')\n",
    "            tokens = [stemmer.stem(token) for token in tokens]\n",
    "    \n",
    "    return tokens"
   ]
  },
  {
   "cell_type": "code",
   "execution_count": 9,
   "metadata": {},
   "outputs": [],
   "source": [
    "def make_topics(text_data, num_topics=10, num_words = 5, passes=15):\n",
    "    '''\n",
    "    Writes docs and corpus to disk and then generates topic models using LDA.\n",
    "    \n",
    "    Arguments:\n",
    "        text_data (list):\n",
    "    \n",
    "    '''\n",
    "    \n",
    "    if not os.path.exists('uc_corpus_path'):\n",
    "        os.makedirs('uc_corpus_path')\n",
    "    \n",
    "    \n",
    "    corpus_path = os.path.join(os.getcwd(),'uc_corpus_path','corpus.pkl')\n",
    "    dict_path = os.path.join(os.getcwd(),'uc_corpus_path','dictionary.gensim')\n",
    "    model_path = os.path.join(os.getcwd(),'uc_corpus_path','model.gensim')\n",
    "\n",
    "    \n",
    "    dictionary = corpora.Dictionary(text_data)\n",
    "    corpus = [dictionary.doc2bow(text) for text in text_data]\n",
    "\n",
    "    pickle.dump(corpus, open(corpus_path, 'wb'))\n",
    "    dictionary.save(dict_path)\n",
    "    \n",
    "    num_topics = num_topics\n",
    "    ldamodel = gensim.models.ldamodel.LdaModel(corpus, num_topics = num_topics, id2word=dictionary, passes=passes,random_state=123)\n",
    "    ldamodel.save(model_path)\n",
    "    topics = ldamodel.print_topics(num_words=num_words)\n",
    "    for i, topic in enumerate(topics):\n",
    "        topics = \", \".join(topic[1].split('\"')[1::2])\n",
    "        print(f'Topic {i}:  {topics}')"
   ]
  },
  {
   "cell_type": "markdown",
   "metadata": {},
   "source": [
    "# Finding Topics with Lemmatization & Including Bigram Phrases"
   ]
  },
  {
   "cell_type": "code",
   "execution_count": 106,
   "metadata": {},
   "outputs": [],
   "source": [
    "lemma_bigram_path = os.path.join(os.getcwd(),'uc_lemma_bigram_path')\n",
    "\n",
    "#if the path doesn't exist, make it\n",
    "if not os.path.exists(lemma_bigram_path):\n",
    "    os.makedirs(lemma_bigram_path)\n",
    "    \n",
    "#if the path exists, delete all the files in it\n",
    "else:\n",
    "    for dirpath, dirnames, filenames in os.walk(lemma_bigram_path):\n",
    "        for file_name in filenames:\n",
    "            file_path = os.path.join(dirpath,file_name)\n",
    "            os.remove(file_path)"
   ]
  },
  {
   "cell_type": "code",
   "execution_count": 107,
   "metadata": {},
   "outputs": [],
   "source": [
    "lemma_phrase_corpus_path = os.path.join(lemma_bigram_path,'uc_lemma_phrase_corpus.txt')\n",
    "df['Lemma Normalized Instance'] = df['Instance'].apply(lambda x: \" \".join(prepare_text_for_lda(x,lemma=True)))\n",
    "\n",
    "#create corpus for phrases\n",
    "for doc in df['Lemma Normalized Instance']:\n",
    "    with open(lemma_phrase_corpus_path,'a') as f:\n",
    "        f.write(doc)\n",
    "        \n",
    "sentences = Text8Corpus(lemma_phrase_corpus_path)\n",
    "phrases = Phrases(sentences, min_count=1, threshold=1)  # train model\n",
    "bigram = Phraser(phrases) # construct bigram model"
   ]
  },
  {
   "cell_type": "code",
   "execution_count": 108,
   "metadata": {},
   "outputs": [],
   "source": [
    "#write each instance to its own txt file so gensim can access it\n",
    "for i, doc in enumerate(df['Lemma Normalized Instance']):\n",
    "    phrase_txt_path = os.path.join(lemma_bigram_path,f'uc_lemma_phrase_text_{i}.txt')\n",
    "    with open(phrase_txt_path,'w+') as f:\n",
    "        f.write(doc)"
   ]
  },
  {
   "cell_type": "code",
   "execution_count": 109,
   "metadata": {},
   "outputs": [],
   "source": [
    "def hasNumbers(inputString):\n",
    "    return any(char.isdigit() for char in inputString)\n",
    "\n",
    "other_stopwords = set(other_stopwords)\n",
    "\n",
    "lemma_phrase_text_data = []\n",
    "for dirpath, dirnames, filenames in os.walk(lemma_bigram_path):\n",
    "    for file_name in filenames:\n",
    "        if hasNumbers(file_name):\n",
    "            file_path = os.path.join(dirpath,file_name)\n",
    "            sentences = Text8Corpus(file_path)\n",
    "            phrase_tokens = []\n",
    "            for token in bigram[sentences]:\n",
    "                phrase_tokens.append(token)\n",
    "            \n",
    "            lemma_phrase_text_data.append([word for words in phrase_tokens for word in words if word not in other_stopwords])\n",
    "        else:\n",
    "            pass     "
   ]
  },
  {
   "cell_type": "code",
   "execution_count": 110,
   "metadata": {
    "scrolled": false
   },
   "outputs": [
    {
     "name": "stdout",
     "output_type": "stream",
     "text": [
      "================================================================================\n",
      "Finding 2 topics of 5 keywords...\n",
      "Topic 0:  model, industry, services, provider, training\n",
      "Topic 1:  benefit, department, opioid_overdose, health, integrate\n",
      "================================================================================\n",
      "Finding 2 topics of 8 keywords...\n",
      "Topic 0:  model, industry, services, provider, training, community, analytics, administrative\n",
      "Topic 1:  benefit, department, opioid_overdose, health, integrate, risk, performance, dashboard\n",
      "================================================================================\n",
      "Finding 2 topics of 10 keywords...\n",
      "Topic 0:  model, industry, services, provider, training, community, analytics, administrative, reporting, development\n",
      "Topic 1:  benefit, department, opioid_overdose, health, integrate, risk, performance, dashboard, funding, patient\n",
      "================================================================================\n",
      "Finding 2 topics of 15 keywords...\n",
      "Topic 0:  model, industry, services, provider, training, community, analytics, administrative, reporting, development, standardize, workforce, collect, capability, grant\n",
      "Topic 1:  benefit, department, opioid_overdose, health, integrate, risk, performance, dashboard, funding, patient, design, services, community, pilot, costs\n",
      "================================================================================\n",
      "Finding 2 topics of 20 keywords...\n",
      "Topic 0:  model, industry, services, provider, training, community, analytics, administrative, reporting, development, standardize, workforce, collect, capability, grant, employment, contract, design, student, structure\n",
      "Topic 1:  benefit, department, opioid_overdose, health, integrate, risk, performance, dashboard, funding, patient, design, services, community, pilot, costs, population, contract, number, budget, insight\n",
      "================================================================================\n",
      "Finding 4 topics of 5 keywords...\n",
      "Topic 0:  provider, services, training, claim, model\n",
      "Topic 1:  standardize, benefit, taxonomy, risk, architecture\n",
      "Topic 2:  student, financial_aid, employment, warehouse, community\n",
      "Topic 3:  dashboard, performance, design, opioid_overdose, funding\n",
      "================================================================================\n",
      "Finding 4 topics of 8 keywords...\n",
      "Topic 0:  provider, services, training, claim, model, industry, development, contract\n",
      "Topic 1:  standardize, benefit, taxonomy, risk, architecture, sec, contract, order\n",
      "Topic 2:  student, financial_aid, employment, warehouse, community, understanding, environment, insight\n",
      "Topic 3:  dashboard, performance, design, opioid_overdose, funding, health, services, administrative\n",
      "================================================================================\n",
      "Finding 4 topics of 10 keywords...\n",
      "Topic 0:  provider, services, training, claim, model, industry, development, contract, health_care, collect\n",
      "Topic 1:  standardize, benefit, taxonomy, risk, architecture, sec, contract, order, company, market\n",
      "Topic 2:  student, financial_aid, employment, warehouse, community, understanding, environment, insight, regulatory, take\n",
      "Topic 3:  dashboard, performance, design, opioid_overdose, funding, health, services, administrative, pilot, integrate\n",
      "================================================================================\n",
      "Finding 4 topics of 15 keywords...\n",
      "Topic 0:  provider, services, training, claim, model, industry, development, contract, health_care, collect, child, health, payment, document, job\n",
      "Topic 1:  standardize, benefit, taxonomy, risk, architecture, sec, contract, order, company, market, surety, technology, credit, intelligent_assistant, analytics\n",
      "Topic 2:  student, financial_aid, employment, warehouse, community, understanding, environment, insight, regulatory, take, request, reporting, administrative, likely, department\n",
      "Topic 3:  dashboard, performance, design, opioid_overdose, funding, health, services, administrative, pilot, integrate, community, department, epidemic, industry, life\n",
      "================================================================================\n",
      "Finding 4 topics of 20 keywords...\n",
      "Topic 0:  provider, services, training, claim, model, industry, development, contract, health_care, collect, child, health, payment, document, job, fraud, head_start, community, priority, department\n",
      "Topic 1:  standardize, benefit, taxonomy, risk, architecture, sec, contract, order, company, market, surety, technology, credit, intelligent_assistant, analytics, database, integrate, structure, costs, capital\n",
      "Topic 2:  student, financial_aid, employment, warehouse, community, understanding, environment, insight, regulatory, take, request, reporting, administrative, likely, department, school, model, dictionary, investment, opportunity\n",
      "Topic 3:  dashboard, performance, design, opioid_overdose, funding, health, services, administrative, pilot, integrate, community, department, epidemic, industry, life, metrics, number, budget, reporting, innovation\n",
      "================================================================================\n",
      "Finding 5 topics of 5 keywords...\n",
      "Topic 0:  provider, student, employment, child, training\n",
      "Topic 1:  benefit, taxonomy, patient, contract, employment\n",
      "Topic 2:  student, financial_aid, warehouse, request, insight\n",
      "Topic 3:  dashboard, services, opioid_overdose, design, funding\n",
      "Topic 4:  standardize, reporting, structure, budget, community\n",
      "================================================================================\n",
      "Finding 5 topics of 8 keywords...\n",
      "Topic 0:  provider, student, employment, child, training, grant, collection, community\n",
      "Topic 1:  benefit, taxonomy, patient, contract, employment, architecture, sec, market\n",
      "Topic 2:  student, financial_aid, warehouse, request, insight, dictionary, department, environment\n",
      "Topic 3:  dashboard, services, opioid_overdose, design, funding, performance, administrative, health\n",
      "Topic 4:  standardize, reporting, structure, budget, community, manage, model, company\n",
      "================================================================================\n",
      "Finding 5 topics of 10 keywords...\n",
      "Topic 0:  provider, student, employment, child, training, grant, collection, community, head_start, health\n",
      "Topic 1:  benefit, taxonomy, patient, contract, employment, architecture, sec, market, risk, surety\n",
      "Topic 2:  student, financial_aid, warehouse, request, insight, dictionary, department, environment, administrative, take\n",
      "Topic 3:  dashboard, services, opioid_overdose, design, funding, performance, administrative, health, pilot, industry\n",
      "Topic 4:  standardize, reporting, structure, budget, community, manage, model, company, regulatory, intelligent_assistant\n",
      "================================================================================\n",
      "Finding 5 topics of 15 keywords...\n",
      "Topic 0:  provider, student, employment, child, training, grant, collection, community, head_start, health, others, collect, dataset, fraud, document\n",
      "Topic 1:  benefit, taxonomy, patient, contract, employment, architecture, sec, market, risk, surety, clinical_trial, technology, capability, analytics, opportunity\n",
      "Topic 2:  student, financial_aid, warehouse, request, insight, dictionary, department, environment, administrative, take, vacancy, school, comment, understanding, store\n",
      "Topic 3:  dashboard, services, opioid_overdose, design, funding, performance, administrative, health, pilot, industry, department, epidemic, number, partner, opioid_epidemic\n",
      "Topic 4:  standardize, reporting, structure, budget, community, manage, model, company, regulatory, intelligent_assistant, opportunity, integrate, surety_bond, training, contract\n",
      "================================================================================\n",
      "Finding 5 topics of 20 keywords...\n",
      "Topic 0:  provider, student, employment, child, training, grant, collection, community, head_start, health, others, collect, dataset, fraud, document, partnership, census, claim, working, pattern\n",
      "Topic 1:  benefit, taxonomy, patient, contract, employment, architecture, sec, market, risk, surety, clinical_trial, technology, capability, analytics, opportunity, job, integration, design, metrics, company\n",
      "Topic 2:  student, financial_aid, warehouse, request, insight, dictionary, department, environment, administrative, take, vacancy, school, comment, understanding, store, protocol, student_aid, track, element, patient\n",
      "Topic 3:  dashboard, services, opioid_overdose, design, funding, performance, administrative, health, pilot, industry, department, epidemic, number, partner, opioid_epidemic, community, two, associate, snap, cohort\n",
      "Topic 4:  standardize, reporting, structure, budget, community, manage, model, company, regulatory, intelligent_assistant, opportunity, integrate, surety_bond, training, contract, database, determine, value, establish, department_veteran\n",
      "================================================================================\n",
      "Finding 8 topics of 5 keywords...\n"
     ]
    },
    {
     "name": "stdout",
     "output_type": "stream",
     "text": [
      "Topic 0:  provider, claim, child, head_start, grant\n",
      "Topic 1:  taxonomy, benefit, sec, contract, surety\n",
      "Topic 2:  pilot, cohort, financial_aid, contract, funding\n",
      "Topic 3:  dashboard, opioid_overdose, health, design, services\n",
      "Topic 4:  industry, standardize, company, manage, intelligent_assistant\n",
      "Topic 5:  student, employment, partnership, community, cloud\n",
      "Topic 6:  regulatory, opportunity, job, similar, food\n",
      "Topic 7:  foreign_assistance, budget, student, department, reporting\n",
      "================================================================================\n",
      "Finding 8 topics of 8 keywords...\n",
      "Topic 0:  provider, claim, child, head_start, grant, collect, development, pattern\n",
      "Topic 1:  taxonomy, benefit, sec, contract, surety, vacancy, dot, market\n",
      "Topic 2:  pilot, cohort, financial_aid, contract, funding, long_term, warehouse, insight\n",
      "Topic 3:  dashboard, opioid_overdose, health, design, services, epidemic, opioid_epidemic, patient\n",
      "Topic 4:  industry, standardize, company, manage, intelligent_assistant, structure, contract, surety_bond\n",
      "Topic 5:  student, employment, partnership, community, cloud, census, beneficiary, question\n",
      "Topic 6:  regulatory, opportunity, job, similar, food, cognitive, workforce, task_force\n",
      "Topic 7:  foreign_assistance, budget, student, department, reporting, department_veteran, comment, community\n",
      "================================================================================\n",
      "Finding 8 topics of 10 keywords...\n",
      "Topic 0:  provider, claim, child, head_start, grant, collect, development, pattern, document, dataset\n",
      "Topic 1:  taxonomy, benefit, sec, contract, surety, vacancy, dot, market, risk, reference\n",
      "Topic 2:  pilot, cohort, financial_aid, contract, funding, long_term, warehouse, insight, services, snap\n",
      "Topic 3:  dashboard, opioid_overdose, health, design, services, epidemic, opioid_epidemic, patient, laws, analytics\n",
      "Topic 4:  industry, standardize, company, manage, intelligent_assistant, structure, contract, surety_bond, scale, poverty\n",
      "Topic 5:  student, employment, partnership, community, cloud, census, beneficiary, question, understanding, service\n",
      "Topic 6:  regulatory, opportunity, job, similar, food, cognitive, workforce, task_force, enhance, framework\n",
      "Topic 7:  foreign_assistance, budget, student, department, reporting, department_veteran, comment, community, year, performance\n",
      "================================================================================\n",
      "Finding 8 topics of 15 keywords...\n",
      "Topic 0:  provider, claim, child, head_start, grant, collect, development, pattern, document, dataset, claim_dataset, community, patient, see, reporting\n",
      "Topic 1:  taxonomy, benefit, sec, contract, surety, vacancy, dot, market, risk, reference, tag, statement, web_service, company, requirement\n",
      "Topic 2:  pilot, cohort, financial_aid, contract, funding, long_term, warehouse, insight, services, snap, contracting, engagement, streamline, dictionary, month\n",
      "Topic 3:  dashboard, opioid_overdose, health, design, services, epidemic, opioid_epidemic, patient, laws, analytics, criminal_justice, update, department, risk, number\n",
      "Topic 4:  industry, standardize, company, manage, intelligent_assistant, structure, contract, surety_bond, scale, poverty, administrative, household, costs, eviction, towards\n",
      "Topic 5:  student, employment, partnership, community, cloud, census, beneficiary, question, understanding, service, working, expand, proposal, training, staff\n",
      "Topic 6:  regulatory, opportunity, job, similar, food, cognitive, workforce, task_force, enhance, framework, job_seeker, achieve, digital, skill, assistance\n",
      "Topic 7:  foreign_assistance, budget, student, department, reporting, department_veteran, comment, community, year, performance, veteran_affairs, veteran_suicide, expect, opportunity, warehouse\n",
      "================================================================================\n",
      "Finding 8 topics of 20 keywords...\n",
      "Topic 0:  provider, claim, child, head_start, grant, collect, development, pattern, document, dataset, claim_dataset, community, patient, see, reporting, risk, collection, request, burden, fraud\n",
      "Topic 1:  taxonomy, benefit, sec, contract, surety, vacancy, dot, market, risk, reference, tag, statement, web_service, company, requirement, standardize, extension, additional, analytics, outline\n",
      "Topic 2:  pilot, cohort, financial_aid, contract, funding, long_term, warehouse, insight, services, snap, contracting, engagement, streamline, dictionary, month, years, school, life, benefit, serve\n",
      "Topic 3:  dashboard, opioid_overdose, health, design, services, epidemic, opioid_epidemic, patient, laws, analytics, criminal_justice, update, department, risk, number, integration, performance, capability, integrate, education\n",
      "Topic 4:  industry, standardize, company, manage, intelligent_assistant, structure, contract, surety_bond, scale, poverty, administrative, household, costs, eviction, towards, eligible, workforce, currently, integrate, innovation\n",
      "Topic 5:  student, employment, partnership, community, cloud, census, beneficiary, question, understanding, service, working, expand, proposal, training, staff, regional, look, policymakers, custom, longitudinal\n",
      "Topic 6:  regulatory, opportunity, job, similar, food, cognitive, workforce, task_force, enhance, framework, job_seeker, achieve, digital, skill, assistance, worker, expand, model, training, services\n",
      "Topic 7:  foreign_assistance, budget, student, department, reporting, department_veteran, comment, community, year, performance, veteran_affairs, veteran_suicide, expect, opportunity, warehouse, urban_rural, consider, explore, integrate, first\n",
      "================================================================================\n",
      "Finding 10 topics of 5 keywords...\n",
      "Topic 0:  claim, provider, job, document, claim_dataset\n",
      "Topic 1:  taxonomy, benefit, risk, sec, contract\n",
      "Topic 2:  financial_aid, warehouse, insight, dictionary, environment\n",
      "Topic 3:  design, health, payment, criminal_justice, patient\n",
      "Topic 4:  industry, standardize, structure, contract, intelligent_assistant\n",
      "Topic 5:  administrative, survey, eligible, cloud, benefit\n",
      "Topic 6:  food, regulate, chamber_commerce, return_investment, framework\n",
      "Topic 7:  foreign_assistance, community, budget, reporting, student\n",
      "Topic 8:  head_start, child, analytics, provider, early_childhood\n",
      "Topic 9:  opioid_overdose, student, employment, dashboard, epidemic\n",
      "================================================================================\n",
      "Finding 10 topics of 8 keywords...\n",
      "Topic 0:  claim, provider, job, document, claim_dataset, procedure, dataset, burden\n",
      "Topic 1:  taxonomy, benefit, risk, sec, contract, market, surety, vacancy\n",
      "Topic 2:  financial_aid, warehouse, insight, dictionary, environment, store, take, streamline\n",
      "Topic 3:  design, health, payment, criminal_justice, patient, dashboard, administrative, health_care\n",
      "Topic 4:  industry, standardize, structure, contract, intelligent_assistant, workforce, company, surety_bond\n",
      "Topic 5:  administrative, survey, eligible, cloud, benefit, design, forensics, regional\n",
      "Topic 6:  food, regulate, chamber_commerce, return_investment, framework, risk, student, regulatory\n",
      "Topic 7:  foreign_assistance, community, budget, reporting, student, comment, department, year\n",
      "Topic 8:  head_start, child, analytics, provider, early_childhood, weather, dot, grant\n",
      "Topic 9:  opioid_overdose, student, employment, dashboard, epidemic, number, contract, cohort\n",
      "================================================================================\n",
      "Finding 10 topics of 10 keywords...\n",
      "Topic 0:  claim, provider, job, document, claim_dataset, procedure, dataset, burden, fraud, clinical_registry\n",
      "Topic 1:  taxonomy, benefit, risk, sec, contract, market, surety, vacancy, credit, capital\n",
      "Topic 2:  financial_aid, warehouse, insight, dictionary, environment, store, take, streamline, request, benefit\n",
      "Topic 3:  design, health, payment, criminal_justice, patient, dashboard, administrative, health_care, department, clinical_trial\n",
      "Topic 4:  industry, standardize, structure, contract, intelligent_assistant, workforce, company, surety_bond, learning, regulatory\n",
      "Topic 5:  administrative, survey, eligible, cloud, benefit, design, forensics, regional, snap_administrative, capture\n",
      "Topic 6:  food, regulate, chamber_commerce, return_investment, framework, risk, student, regulatory, university, food_drug\n",
      "Topic 7:  foreign_assistance, community, budget, reporting, student, comment, department, year, model, department_veteran\n",
      "Topic 8:  head_start, child, analytics, provider, early_childhood, weather, dot, grant, visualization, see\n",
      "Topic 9:  opioid_overdose, student, employment, dashboard, epidemic, number, contract, cohort, community, services\n",
      "================================================================================\n",
      "Finding 10 topics of 15 keywords...\n"
     ]
    },
    {
     "name": "stdout",
     "output_type": "stream",
     "text": [
      "Topic 0:  claim, provider, job, document, claim_dataset, procedure, dataset, burden, fraud, clinical_registry, protocol, market, objective, request, patient\n",
      "Topic 1:  taxonomy, benefit, risk, sec, contract, market, surety, vacancy, credit, capital, technology, reference, statement, tag, analytics\n",
      "Topic 2:  financial_aid, warehouse, insight, dictionary, environment, store, take, streamline, request, benefit, element, years, student_aid, long_term, legal\n",
      "Topic 3:  design, health, payment, criminal_justice, patient, dashboard, administrative, health_care, department, clinical_trial, partner, million, performance, services, provider\n",
      "Topic 4:  industry, standardize, structure, contract, intelligent_assistant, workforce, company, surety_bond, learning, regulatory, investment, model, web_service, reporting, manage\n",
      "Topic 5:  administrative, survey, eligible, cloud, benefit, design, forensics, regional, snap_administrative, capture, health, services, expand, backup, household\n",
      "Topic 6:  food, regulate, chamber_commerce, return_investment, framework, risk, student, regulatory, university, food_drug, environment, role, survey, structure, enhance\n",
      "Topic 7:  foreign_assistance, community, budget, reporting, student, comment, department, year, model, department_veteran, opportunity, performance, veteran_affairs, veteran_suicide, expect\n",
      "Topic 8:  head_start, child, analytics, provider, early_childhood, weather, dot, grant, visualization, see, generate, cloud, initiative, others, vendor\n",
      "Topic 9:  opioid_overdose, student, employment, dashboard, epidemic, number, contract, cohort, community, services, policymakers, laws, pilot, database, opioid_epidemic\n",
      "================================================================================\n",
      "Finding 10 topics of 20 keywords...\n",
      "Topic 0:  claim, provider, job, document, claim_dataset, procedure, dataset, burden, fraud, clinical_registry, protocol, market, objective, request, patient, capability, trust, transparency, collection, census_bureau\n",
      "Topic 1:  taxonomy, benefit, risk, sec, contract, market, surety, vacancy, credit, capital, technology, reference, statement, tag, analytics, standardize, requirement, company, architecture, extension\n",
      "Topic 2:  financial_aid, warehouse, insight, dictionary, environment, store, take, streamline, request, benefit, element, years, student_aid, long_term, legal, award, assistance, likely, storage, action\n",
      "Topic 3:  design, health, payment, criminal_justice, patient, dashboard, administrative, health_care, department, clinical_trial, partner, million, performance, services, provider, diver, cancer, review, life, fund\n",
      "Topic 4:  industry, standardize, structure, contract, intelligent_assistant, workforce, company, surety_bond, learning, regulatory, investment, model, web_service, reporting, manage, establish, council, training, innovation, opportunity\n",
      "Topic 5:  administrative, survey, eligible, cloud, benefit, design, forensics, regional, snap_administrative, capture, health, services, expand, backup, household, poverty, transit, target, bureau, guidance\n",
      "Topic 6:  food, regulate, chamber_commerce, return_investment, framework, risk, student, regulatory, university, food_drug, environment, role, survey, structure, enhance, administrative, leadership, health, developing, sensitive\n",
      "Topic 7:  foreign_assistance, community, budget, reporting, student, comment, department, year, model, department_veteran, opportunity, performance, veteran_affairs, veteran_suicide, expect, integrate, country, urban_rural, warehouse, consider\n",
      "Topic 8:  head_start, child, analytics, provider, early_childhood, weather, dot, grant, visualization, see, generate, cloud, initiative, others, financial, vendor, part, connect, understanding, collect\n",
      "Topic 9:  opioid_overdose, student, employment, dashboard, epidemic, number, contract, cohort, community, services, policymakers, laws, pilot, database, opioid_epidemic, engagement, funding, evidence, expand, metrics\n"
     ]
    }
   ],
   "source": [
    "num_topics = [2,4,5,8,10]\n",
    "num_words = [5,8,10,15,20]\n",
    "\n",
    "for n_topics, n_words in product(num_topics,num_words):\n",
    "    print(\"=\"*80)\n",
    "    print(f'Finding {n_topics} topics of {n_words} keywords...')\n",
    "    make_topics(lemma_phrase_text_data,num_topics=n_topics,num_words=n_words,passes=50)"
   ]
  },
  {
   "cell_type": "markdown",
   "metadata": {},
   "source": [
    "## Topic Model Viz\n"
   ]
  },
  {
   "cell_type": "code",
   "execution_count": 139,
   "metadata": {},
   "outputs": [
    {
     "name": "stdout",
     "output_type": "stream",
     "text": [
      "================================================================================\n",
      "Finding 9 topics of 10 keywords...\n",
      "Topic 0:  provider, claim, payment, document, health, patient, health_care, claim_dataset, procedure, type\n",
      "Topic 1:  contract, taxonomy, surety, benefit, sec, tag, risk, market, web_service, statement\n",
      "Topic 2:  financial_aid, warehouse, dictionary, vacancy, insight, store, school, environment, take, streamline\n",
      "Topic 3:  dashboard, opioid_overdose, funding, pilot, services, design, department, epidemic, health, laws\n",
      "Topic 4:  company, standardize, intelligent_assistant, costs, structure, conduct, automate, vet, eviction, database\n",
      "Topic 5:  student, employment, design, partnership, job, training, administrative, capability, expand, services\n",
      "Topic 6:  regulatory, food, manage, domain, similar, safety, framework, regulate, model, risk\n",
      "Topic 7:  foreign_assistance, budget, reporting, department, student, performance, community, comment, department_veteran, veteran_affairs\n",
      "Topic 8:  head_start, child, analytics, provider, early_childhood, grant, visualization, health, weather, mapping\n"
     ]
    }
   ],
   "source": [
    "num_topics = 9\n",
    "num_words = 10\n",
    "data = lemma_phrase_text_data\n",
    "\n",
    "\n",
    "print(\"=\"*80)\n",
    "print(f'Finding {num_topics} topics of {num_words} keywords...')\n",
    "make_topics(data,num_topics=num_topics,num_words=num_words)"
   ]
  },
  {
   "cell_type": "code",
   "execution_count": 140,
   "metadata": {},
   "outputs": [
    {
     "data": {
      "text/html": [
       "\n",
       "<link rel=\"stylesheet\" type=\"text/css\" href=\"https://cdn.rawgit.com/bmabey/pyLDAvis/files/ldavis.v1.0.0.css\">\n",
       "\n",
       "\n",
       "<div id=\"ldavis_el24326112183524952584371722\"></div>\n",
       "<script type=\"text/javascript\">\n",
       "\n",
       "var ldavis_el24326112183524952584371722_data = {\"mdsDat\": {\"x\": [-0.07281627634482246, 0.07259106200104218, 0.046790780929895644, -0.07343921769368049, -0.04095615283366677, -0.05629334823547336, -0.039014303843500624, 0.15262475442382403, 0.010512701596381714], \"y\": [-0.07717193946630202, -0.16410507627297624, 0.046641038459678937, 0.01969317194284566, 0.07803306283903337, 0.02839149201240231, -0.0027115416704531076, 0.0668250761978413, 0.004404715957930086], \"topics\": [1, 2, 3, 4, 5, 6, 7, 8, 9], \"cluster\": [1, 1, 1, 1, 1, 1, 1, 1, 1], \"Freq\": [15.154168128967285, 7.85469913482666, 9.340949058532715, 25.675872802734375, 8.297992706298828, 11.258978843688965, 6.163047790527344, 8.530499458312988, 7.723793983459473]}, \"tinfo\": {\"Category\": [\"Default\", \"Default\", \"Default\", \"Default\", \"Default\", \"Default\", \"Default\", \"Default\", \"Default\", \"Default\", \"Default\", \"Default\", \"Default\", \"Default\", \"Default\", \"Default\", \"Default\", \"Default\", \"Default\", \"Default\", \"Default\", \"Default\", \"Default\", \"Default\", \"Default\", \"Default\", \"Default\", \"Default\", \"Default\", \"Default\", \"Topic1\", \"Topic1\", \"Topic1\", \"Topic1\", \"Topic1\", \"Topic1\", \"Topic1\", \"Topic1\", \"Topic1\", \"Topic1\", \"Topic1\", \"Topic1\", \"Topic1\", \"Topic1\", \"Topic1\", \"Topic1\", \"Topic1\", \"Topic1\", \"Topic1\", \"Topic1\", \"Topic1\", \"Topic1\", \"Topic1\", \"Topic1\", \"Topic1\", \"Topic1\", \"Topic1\", \"Topic1\", \"Topic1\", \"Topic1\", \"Topic1\", \"Topic1\", \"Topic1\", \"Topic1\", \"Topic1\", \"Topic1\", \"Topic1\", \"Topic1\", \"Topic1\", \"Topic1\", \"Topic1\", \"Topic1\", \"Topic1\", \"Topic1\", \"Topic1\", \"Topic1\", \"Topic1\", \"Topic1\", \"Topic1\", \"Topic1\", \"Topic1\", \"Topic1\", \"Topic1\", \"Topic1\", \"Topic1\", \"Topic1\", \"Topic1\", \"Topic1\", \"Topic1\", \"Topic1\", \"Topic1\", \"Topic1\", \"Topic2\", \"Topic2\", \"Topic2\", \"Topic2\", \"Topic2\", \"Topic2\", \"Topic2\", \"Topic2\", \"Topic2\", \"Topic2\", \"Topic2\", \"Topic2\", \"Topic2\", \"Topic2\", \"Topic2\", \"Topic2\", \"Topic2\", \"Topic2\", \"Topic2\", \"Topic2\", \"Topic2\", \"Topic2\", \"Topic2\", \"Topic2\", \"Topic2\", \"Topic2\", \"Topic2\", \"Topic2\", \"Topic2\", \"Topic2\", \"Topic2\", \"Topic2\", \"Topic2\", \"Topic2\", \"Topic2\", \"Topic2\", \"Topic2\", \"Topic2\", \"Topic2\", \"Topic2\", \"Topic2\", \"Topic2\", \"Topic2\", \"Topic2\", \"Topic2\", \"Topic2\", \"Topic2\", \"Topic2\", \"Topic2\", \"Topic2\", \"Topic2\", \"Topic2\", \"Topic2\", \"Topic3\", \"Topic3\", \"Topic3\", \"Topic3\", \"Topic3\", \"Topic3\", \"Topic3\", \"Topic3\", \"Topic3\", \"Topic3\", \"Topic3\", \"Topic3\", \"Topic3\", \"Topic3\", \"Topic3\", \"Topic3\", \"Topic3\", \"Topic3\", \"Topic3\", \"Topic3\", \"Topic3\", \"Topic3\", \"Topic3\", \"Topic3\", \"Topic3\", \"Topic3\", \"Topic3\", \"Topic3\", \"Topic3\", \"Topic3\", \"Topic3\", \"Topic3\", \"Topic3\", \"Topic3\", \"Topic3\", \"Topic3\", \"Topic3\", \"Topic3\", \"Topic3\", \"Topic3\", \"Topic3\", \"Topic3\", \"Topic3\", \"Topic3\", \"Topic3\", \"Topic3\", \"Topic3\", \"Topic3\", \"Topic3\", \"Topic3\", \"Topic3\", \"Topic3\", \"Topic3\", \"Topic3\", \"Topic3\", \"Topic3\", \"Topic3\", \"Topic3\", \"Topic3\", \"Topic3\", \"Topic3\", \"Topic3\", \"Topic3\", \"Topic3\", \"Topic3\", \"Topic4\", \"Topic4\", \"Topic4\", \"Topic4\", \"Topic4\", \"Topic4\", \"Topic4\", \"Topic4\", \"Topic4\", \"Topic4\", \"Topic4\", \"Topic4\", \"Topic4\", \"Topic4\", \"Topic4\", \"Topic4\", \"Topic4\", \"Topic4\", \"Topic4\", \"Topic4\", \"Topic4\", \"Topic4\", \"Topic4\", \"Topic4\", \"Topic4\", \"Topic4\", \"Topic4\", \"Topic4\", \"Topic4\", \"Topic4\", \"Topic4\", \"Topic4\", \"Topic4\", \"Topic4\", \"Topic4\", \"Topic4\", \"Topic4\", \"Topic4\", \"Topic4\", \"Topic4\", \"Topic4\", \"Topic4\", \"Topic4\", \"Topic4\", \"Topic4\", \"Topic4\", \"Topic4\", \"Topic4\", \"Topic4\", \"Topic4\", \"Topic4\", \"Topic4\", \"Topic4\", \"Topic4\", \"Topic4\", \"Topic4\", \"Topic4\", \"Topic4\", \"Topic4\", \"Topic4\", \"Topic4\", \"Topic4\", \"Topic4\", \"Topic4\", \"Topic4\", \"Topic5\", \"Topic5\", \"Topic5\", \"Topic5\", \"Topic5\", \"Topic5\", \"Topic5\", \"Topic5\", \"Topic5\", \"Topic5\", \"Topic5\", \"Topic5\", \"Topic5\", \"Topic5\", \"Topic5\", \"Topic5\", \"Topic5\", \"Topic5\", \"Topic5\", \"Topic5\", \"Topic5\", \"Topic5\", \"Topic5\", \"Topic5\", \"Topic5\", \"Topic5\", \"Topic5\", \"Topic5\", \"Topic5\", \"Topic5\", \"Topic5\", \"Topic5\", \"Topic5\", \"Topic5\", \"Topic5\", \"Topic5\", \"Topic5\", \"Topic5\", \"Topic5\", \"Topic5\", \"Topic5\", \"Topic5\", \"Topic5\", \"Topic5\", \"Topic5\", \"Topic5\", \"Topic5\", \"Topic5\", \"Topic5\", \"Topic5\", \"Topic5\", \"Topic5\", \"Topic5\", \"Topic5\", \"Topic5\", \"Topic5\", \"Topic5\", \"Topic5\", \"Topic5\", \"Topic5\", \"Topic5\", \"Topic5\", \"Topic5\", \"Topic5\", \"Topic5\", \"Topic6\", \"Topic6\", \"Topic6\", \"Topic6\", \"Topic6\", \"Topic6\", \"Topic6\", \"Topic6\", \"Topic6\", \"Topic6\", \"Topic6\", \"Topic6\", \"Topic6\", \"Topic6\", \"Topic6\", \"Topic6\", \"Topic6\", \"Topic6\", \"Topic6\", \"Topic6\", \"Topic6\", \"Topic6\", \"Topic6\", \"Topic6\", \"Topic6\", \"Topic6\", \"Topic6\", \"Topic6\", \"Topic6\", \"Topic6\", \"Topic6\", \"Topic6\", \"Topic6\", \"Topic6\", \"Topic6\", \"Topic6\", \"Topic6\", \"Topic6\", \"Topic6\", \"Topic6\", \"Topic6\", \"Topic6\", \"Topic6\", \"Topic6\", \"Topic6\", \"Topic6\", \"Topic6\", \"Topic6\", \"Topic6\", \"Topic6\", \"Topic6\", \"Topic6\", \"Topic6\", \"Topic6\", \"Topic6\", \"Topic6\", \"Topic6\", \"Topic6\", \"Topic6\", \"Topic6\", \"Topic6\", \"Topic6\", \"Topic6\", \"Topic6\", \"Topic6\", \"Topic6\", \"Topic7\", \"Topic7\", \"Topic7\", \"Topic7\", \"Topic7\", \"Topic7\", \"Topic7\", \"Topic7\", \"Topic7\", \"Topic7\", \"Topic7\", \"Topic7\", \"Topic7\", \"Topic7\", \"Topic7\", \"Topic7\", \"Topic7\", \"Topic7\", \"Topic7\", \"Topic7\", \"Topic7\", \"Topic7\", \"Topic7\", \"Topic7\", \"Topic7\", \"Topic7\", \"Topic7\", \"Topic7\", \"Topic7\", \"Topic7\", \"Topic7\", \"Topic7\", \"Topic7\", \"Topic7\", \"Topic7\", \"Topic7\", \"Topic7\", \"Topic7\", \"Topic7\", \"Topic7\", \"Topic7\", \"Topic7\", \"Topic7\", \"Topic7\", \"Topic7\", \"Topic7\", \"Topic7\", \"Topic7\", \"Topic7\", \"Topic7\", \"Topic7\", \"Topic7\", \"Topic7\", \"Topic7\", \"Topic7\", \"Topic7\", \"Topic7\", \"Topic7\", \"Topic8\", \"Topic8\", \"Topic8\", \"Topic8\", \"Topic8\", \"Topic8\", \"Topic8\", \"Topic8\", \"Topic8\", \"Topic8\", \"Topic8\", \"Topic8\", \"Topic8\", \"Topic8\", \"Topic8\", \"Topic8\", \"Topic8\", \"Topic8\", \"Topic8\", \"Topic8\", \"Topic8\", \"Topic8\", \"Topic8\", \"Topic8\", \"Topic8\", \"Topic8\", \"Topic8\", \"Topic8\", \"Topic8\", \"Topic8\", \"Topic8\", \"Topic8\", \"Topic8\", \"Topic8\", \"Topic8\", \"Topic8\", \"Topic8\", \"Topic8\", \"Topic8\", \"Topic8\", \"Topic8\", \"Topic8\", \"Topic8\", \"Topic8\", \"Topic8\", \"Topic8\", \"Topic8\", \"Topic8\", \"Topic8\", \"Topic8\", \"Topic8\", \"Topic8\", \"Topic8\", \"Topic8\", \"Topic9\", \"Topic9\", \"Topic9\", \"Topic9\", \"Topic9\", \"Topic9\", \"Topic9\", \"Topic9\", \"Topic9\", \"Topic9\", \"Topic9\", \"Topic9\", \"Topic9\", \"Topic9\", \"Topic9\", \"Topic9\", \"Topic9\", \"Topic9\", \"Topic9\", \"Topic9\", \"Topic9\", \"Topic9\", \"Topic9\", \"Topic9\", \"Topic9\", \"Topic9\", \"Topic9\", \"Topic9\", \"Topic9\", \"Topic9\", \"Topic9\", \"Topic9\", \"Topic9\", \"Topic9\", \"Topic9\", \"Topic9\", \"Topic9\", \"Topic9\", \"Topic9\", \"Topic9\", \"Topic9\", \"Topic9\", \"Topic9\", \"Topic9\", \"Topic9\", \"Topic9\", \"Topic9\", \"Topic9\", \"Topic9\", \"Topic9\", \"Topic9\", \"Topic9\", \"Topic9\", \"Topic9\", \"Topic9\", \"Topic9\", \"Topic9\", \"Topic9\", \"Topic9\", \"Topic9\", \"Topic9\", \"Topic9\", \"Topic9\"], \"Freq\": [25.0, 10.0, 10.0, 23.0, 22.0, 12.0, 7.0, 9.0, 12.0, 10.0, 14.0, 14.0, 18.0, 7.0, 7.0, 12.0, 20.0, 18.0, 15.0, 6.0, 13.0, 7.0, 14.0, 6.0, 17.0, 13.0, 5.0, 17.0, 28.0, 17.0, 6.676936626434326, 5.848827838897705, 5.828703880310059, 5.032723903656006, 4.205840587615967, 4.203333377838135, 4.190917015075684, 3.384921073913574, 3.3848326206207275, 3.3838253021240234, 3.3827996253967285, 2.5636749267578125, 2.562807321548462, 2.5628232955932617, 2.5627872943878174, 2.56257963180542, 2.562103748321533, 2.561903476715088, 2.561739206314087, 2.5615785121917725, 2.5615389347076416, 2.5614099502563477, 2.550550937652588, 2.5485873222351074, 5.015151023864746, 2.4862425327301025, 5.030368328094482, 1.739593744277954, 1.7394431829452515, 1.7393842935562134, 3.3866424560546875, 9.961939811706543, 3.384371042251587, 5.033909797668457, 9.125356674194336, 5.853983402252197, 11.621225357055664, 6.6739182472229, 5.857709884643555, 7.189899921417236, 9.092252731323242, 4.2089524269104, 3.3831841945648193, 3.386765718460083, 3.376329183578491, 5.843820095062256, 4.202273845672607, 6.60617733001709, 7.368519306182861, 5.56503963470459, 8.307848930358887, 5.005633354187012, 5.035609722137451, 4.968935012817383, 4.775965690612793, 5.822203636169434, 5.01673698425293, 5.037346839904785, 5.447941303253174, 5.856345176696777, 5.849434852600098, 5.181151390075684, 6.3791985511779785, 4.377654075622559, 3.649348258972168, 3.6385481357574463, 2.944596529006958, 2.9441721439361572, 2.9399642944335938, 2.939105749130249, 5.7156081199646, 7.2460126876831055, 2.229297399520874, 2.2282345294952393, 2.2263240814208984, 2.2255616188049316, 2.2222495079040527, 2.2206404209136963, 4.377570152282715, 2.146562099456787, 2.0694761276245117, 2.0540075302124023, 1.5132038593292236, 1.5126588344573975, 1.5125459432601929, 1.5125553607940674, 1.5125149488449097, 1.5124350786209106, 1.5124136209487915, 1.5123399496078491, 1.512300968170166, 1.5122730731964111, 4.376547813415527, 2.9440486431121826, 7.357598304748535, 12.26144790649414, 1.9187302589416504, 2.925464630126953, 2.227267265319824, 5.093167781829834, 7.217404365539551, 2.2289063930511475, 3.6026036739349365, 5.293032646179199, 2.9439849853515625, 3.6612601280212402, 3.4426443576812744, 3.6624584197998047, 2.6958625316619873, 3.6655402183532715, 2.936501979827881, 2.9472529888153076, 3.295781373977661, 3.424872636795044, 2.9457461833953857, 6.765737056732178, 6.051732063293457, 3.067552328109741, 3.067734956741333, 8.294389724731445, 2.3214893341064453, 2.321338176727295, 2.3212521076202393, 2.320577621459961, 2.3203799724578857, 2.3200008869171143, 2.3197576999664307, 4.55799674987793, 2.3150112628936768, 1.5761667490005493, 1.5761667490005493, 1.5756560564041138, 1.5754902362823486, 1.5753836631774902, 1.575324535369873, 1.5754001140594482, 1.5753986835479736, 1.5753802061080933, 1.5752427577972412, 1.5752366781234741, 1.5751739740371704, 1.5750808715820312, 1.5751757621765137, 1.5749729871749878, 1.5747967958450317, 4.557122707366943, 3.813922882080078, 3.7965221405029297, 7.540384769439697, 5.306196689605713, 4.55703067779541, 3.817063570022583, 3.0688276290893555, 2.321476459503174, 2.3209290504455566, 2.306567668914795, 3.0677011013031006, 2.3218603134155273, 3.8128702640533447, 3.8165602684020996, 4.560944557189941, 5.312495708465576, 5.926416397094727, 4.559964179992676, 3.0669281482696533, 4.8549580574035645, 3.817366361618042, 4.961576461791992, 3.5059237480163574, 3.3229563236236572, 3.0685856342315674, 3.0672507286071777, 3.816558361053467, 3.8159019947052, 4.180663585662842, 3.8168387413024902, 4.008307933807373, 3.8432986736297607, 3.7415528297424316, 3.3300724029541016, 16.99036979675293, 7.215473175048828, 6.32515287399292, 5.439591884613037, 5.4354248046875, 5.4350361824035645, 5.435108661651611, 5.434221267700195, 5.428872585296631, 5.414803981781006, 4.546454906463623, 4.546230316162109, 4.545754909515381, 4.545490741729736, 4.545314788818359, 4.5445942878723145, 9.856118202209473, 4.53151798248291, 3.6576385498046875, 3.65759539604187, 3.6563305854797363, 3.6563985347747803, 3.6561758518218994, 3.656129837036133, 3.65608811378479, 3.6560075283050537, 3.655966281890869, 3.6558454036712646, 3.655791997909546, 3.654604196548462, 10.771652221679688, 7.192189693450928, 14.32826042175293, 8.993962287902832, 8.766897201538086, 9.877936363220215, 13.398905754089355, 5.434873104095459, 5.43320369720459, 19.642024993896484, 9.846864700317383, 9.880355834960938, 8.101987838745117, 9.880029678344727, 8.7943754196167, 6.325235366821289, 8.988401412963867, 7.226724624633789, 12.875723838806152, 12.954124450683594, 9.838923454284668, 9.86320686340332, 11.0894775390625, 10.760311126708984, 8.84585952758789, 9.36621379852295, 8.06397819519043, 8.995942115783691, 8.054320335388184, 8.10190486907959, 7.896202087402344, 8.055302619934082, 7.95769739151001, 8.071969032287598, 8.041879653930664, 5.8456549644470215, 4.4023566246032715, 4.385396957397461, 2.9646472930908203, 2.9451184272766113, 3.469771146774292, 2.244150161743164, 2.2437782287597656, 2.243300199508667, 2.243471622467041, 2.2421648502349854, 2.2283501625061035, 3.6842715740203857, 1.5245310068130493, 1.5245310068130493, 1.5245308876037598, 1.5230499505996704, 1.522831678390503, 1.5228945016860962, 1.5228017568588257, 1.5227404832839966, 1.5227564573287964, 1.522722840309143, 1.5226693153381348, 1.5226632356643677, 1.5226448774337769, 1.5226383209228516, 1.5226161479949951, 1.522654414176941, 1.5225838422775269, 2.2418694496154785, 2.9628677368164062, 7.205082416534424, 3.6810007095336914, 2.877023458480835, 3.6867361068725586, 4.406081676483154, 2.244717836380005, 2.2420074939727783, 2.8477783203125, 3.6863596439361572, 2.24430513381958, 2.1432366371154785, 3.8875997066497803, 7.094090938568115, 5.720621585845947, 2.940869092941284, 5.838222026824951, 5.112898349761963, 2.961992025375366, 3.6839497089385986, 4.358220100402832, 4.372868537902832, 3.6879749298095703, 3.685917377471924, 3.68603777885437, 3.327599048614502, 3.662323474884033, 4.2267866134643555, 3.521512508392334, 3.202265977859497, 3.211620330810547, 3.1184399127960205, 3.0427603721618652, 2.970986843109131, 4.75995397567749, 3.9887030124664307, 3.9855077266693115, 3.9803709983825684, 2.4280693531036377, 2.4261045455932617, 2.4259395599365234, 2.4255335330963135, 2.4252655506134033, 2.423865795135498, 2.4238598346710205, 2.4236948490142822, 2.4235498905181885, 4.766409873962402, 3.9809212684631348, 1.6470632553100586, 1.6464956998825073, 1.6465409994125366, 1.6463342905044556, 1.6462562084197998, 1.6462361812591553, 1.6462231874465942, 1.646174430847168, 1.6462390422821045, 1.6461265087127686, 1.646124243736267, 1.6460546255111694, 1.6460654735565186, 1.6460903882980347, 1.6457537412643433, 3.208956241607666, 3.207521677017212, 3.206266403198242, 4.762622356414795, 3.9811184406280518, 6.799346446990967, 4.765285968780518, 3.985645055770874, 6.787569046020508, 2.424168825149536, 10.221449851989746, 2.423248529434204, 3.9862513542175293, 9.057554244995117, 3.9825589656829834, 3.9839086532592773, 5.542715549468994, 6.322251319885254, 6.222721099853516, 6.775521755218506, 4.7656025886535645, 6.722770690917969, 6.830397605895996, 4.760790824890137, 5.548660755157471, 4.764801979064941, 4.998498916625977, 5.971740245819092, 3.9868438243865967, 4.347248554229736, 5.115358829498291, 4.66743803024292, 4.766920566558838, 4.130499839782715, 3.9902703762054443, 3.988050699234009, 2.70750093460083, 2.706631660461426, 2.7047359943389893, 2.050337314605713, 2.0485100746154785, 2.048422336578369, 7.3159589767456055, 1.3914567232131958, 1.3914564847946167, 1.3914564847946167, 1.3914567232131958, 1.3911317586898804, 1.3910572528839111, 1.3910033702850342, 1.3909790515899658, 1.3909645080566406, 1.390949010848999, 1.390735149383545, 1.3904434442520142, 1.3903981447219849, 1.3898816108703613, 1.389892816543579, 1.3897713422775269, 1.3893290758132935, 1.3890806436538696, 1.3885746002197266, 1.3793519735336304, 3.2954862117767334, 4.024135589599609, 2.049250364303589, 3.3651652336120605, 2.713796377182007, 3.3690617084503174, 2.7065589427948, 3.987607717514038, 3.3651044368743896, 2.7079131603240967, 3.368436336517334, 2.707110643386841, 2.0428848266601562, 2.9694857597351074, 2.049753189086914, 3.202281951904297, 2.7203826904296875, 2.710041046142578, 3.004533052444458, 2.0504114627838135, 2.530198574066162, 2.7085912227630615, 2.049556016921997, 2.710827589035034, 2.7143337726593018, 2.2430217266082764, 2.243544816970825, 2.0801780223846436, 2.0540215969085693, 2.053661584854126, 2.053299903869629, 10.270508766174316, 4.460101127624512, 3.7304790019989014, 3.000871419906616, 3.000664234161377, 3.0006561279296875, 3.000232219696045, 3.000222682952881, 2.9882655143737793, 2.2708160877227783, 2.270380973815918, 2.263333797454834, 2.260948419570923, 2.258448600769043, 4.460904121398926, 1.5421994924545288, 1.5421994924545288, 1.5421994924545288, 1.5421992540359497, 1.5417635440826416, 1.541661024093628, 1.5412641763687134, 1.5411953926086426, 1.5410932302474976, 1.5411192178726196, 1.5410585403442383, 1.5410068035125732, 1.5409948825836182, 1.5409725904464722, 1.5409576892852783, 4.445152759552002, 8.088092803955078, 5.189774990081787, 5.190605163574219, 2.2709426879882812, 2.9999876022338867, 3.7114696502685547, 2.2673516273498535, 3.0007083415985107, 3.000128746032715, 3.0000593662261963, 6.501420497894287, 5.846229553222656, 4.413160800933838, 5.928040027618408, 6.127928256988525, 3.560688018798828, 5.1958489418029785, 3.0031440258026123, 3.5724105834960938, 2.9629344940185547, 2.938305616378784, 3.0037429332733154, 3.002520799636841, 7.175187110900879, 5.045688629150391, 2.918806314468384, 2.9182655811309814, 2.9181571006774902, 2.9158120155334473, 1.4996446371078491, 1.4991575479507446, 1.4989997148513794, 1.4990057945251465, 1.4990153312683105, 1.4989733695983887, 1.4988209009170532, 1.4988621473312378, 1.498518466949463, 1.4984192848205566, 1.4984077215194702, 1.498381495475769, 1.4984313249588013, 1.4983634948730469, 1.49835205078125, 1.4982984066009521, 1.4983561038970947, 1.4983338117599487, 1.4983025789260864, 1.498267412185669, 1.4982306957244873, 1.4982718229293823, 1.498221516609192, 1.4981369972229004, 1.498137354850769, 2.916527271270752, 2.2073721885681152, 6.4655232429504395, 2.918405532836914, 2.207833766937256, 3.6287636756896973, 2.206876277923584, 5.048745632171631, 3.7021799087524414, 2.8020546436309814, 2.9793131351470947, 5.050994873046875, 4.340701103210449, 2.918860912322998, 2.9202194213867188, 2.917917251586914, 2.917929172515869, 2.2082674503326416, 2.2079384326934814, 2.919694662094116, 2.2086997032165527, 2.208496332168579, 3.647181749343872, 2.2085678577423096, 2.958387851715088, 2.918806552886963, 2.283353567123413, 2.246746063232422, 2.2379777431488037, 2.2358832359313965, 2.2306058406829834, 2.222609758377075], \"Term\": [\"contract\", \"foreign_assistance\", \"regulatory\", \"student\", \"provider\", \"taxonomy\", \"head_start\", \"surety\", \"budget\", \"financial_aid\", \"warehouse\", \"child\", \"opioid_overdose\", \"sec\", \"dictionary\", \"market\", \"standardize\", \"company\", \"structure\", \"intelligent_assistant\", \"manage\", \"tag\", \"claim\", \"vacancy\", \"costs\", \"job\", \"early_childhood\", \"technology\", \"benefit\", \"request\", \"claim_dataset\", \"clinical_registry\", \"protocol\", \"south\", \"error\", \"urge_doc\", \"provider_identifier\", \"losses\", \"lender\", \"vital\", \"patient_care\", \"respondent_burden\", \"labor_market\", \"phi\", \"toolkit\", \"beneficial\", \"paper_bond\", \"dissemination\", \"planner\", \"analytic_model\", \"cap\", \"competency_education\", \"identifier_provider\", \"principal\", \"identity\", \"pharmacy\", \"clinical\", \"disclosure_protection\", \"company_meet\", \"union_order\", \"training_provider\", \"claim\", \"reliable\", \"beneficiary\", \"payment\", \"burden\", \"provider\", \"procedure\", \"fraud\", \"health_care\", \"document\", \"prison\", \"meet_requirement\", \"lab\", \"doc\", \"dataset\", \"fraud_waste\", \"type\", \"patient\", \"market\", \"health\", \"gap\", \"census_bureau\", \"intend\", \"supporting\", \"development\", \"various\", \"collection\", \"request\", \"community\", \"services\", \"model\", \"sec\", \"web_service\", \"extension\", \"smart_grid\", \"snap_applicant\", \"company_financial\", \"financial_market\", \"energy\", \"tag\", \"surety\", \"basic_financial\", \"cube\", \"save_life\", \"streamline_procurement\", \"predictable_reliable\", \"fix\", \"statement\", \"doe\", \"filer\", \"codification\", \"conventional_arms\", \"guideline_aggregation\", \"responsiveness\", \"primary_indicator\", \"front_door\", \"talk\", \"catalyze_innovative\", \"carefully\", \"snap_reporting\", \"learning_integrity\", \"surety_bond\", \"obligation\", \"taxonomy\", \"contract\", \"comparability\", \"outside\", \"pain\", \"market\", \"benefit\", \"barrier\", \"amp\", \"risk\", \"follow\", \"requirement\", \"integration\", \"metrics\", \"call\", \"analytics\", \"consistent\", \"transparency\", \"standardize\", \"services\", \"community\", \"dictionary\", \"vacancy\", \"lei\", \"neighborhood\", \"financial_aid\", \"identification_code\", \"universal_identification\", \"applicant\", \"primary_storage\", \"legal_hold\", \"igc\", \"integrate_dictionary\", \"student_aid\", \"ago\", \"learning_pathway\", \"workforce_connectivity\", \"poise\", \"attention\", \"corporate_linkage\", \"endorse\", \"low_poverty\", \"coverage_treatment\", \"housing_voucher\", \"fields_core\", \"legal_identifier\", \"point_entry\", \"exclude\", \"le_likely\", \"integrate_classification\", \"listing\", \"element\", \"interface\", \"appropriate\", \"warehouse\", \"school\", \"legal\", \"storage\", \"aid\", \"water\", \"expensive\", \"thinking\", \"due\", \"attend\", \"content\", \"award\", \"streamline\", \"store\", \"insight\", \"years\", \"particular\", \"take\", \"assistance\", \"environment\", \"respond\", \"amount\", \"direct\", \"occur\", \"likely\", \"action\", \"request\", \"long_term\", \"understanding\", \"benefit\", \"administrative\", \"education\", \"opioid_overdose\", \"clinical_trial\", \"harmonize\", \"diver\", \"indicator_opioid\", \"overdose\", \"cancer\", \"opioid_disorder\", \"pay_success\", \"learning_community\", \"isi_slds\", \"minority_technology\", \"drug_seizure\", \"coverage\", \"mat\", \"social_economic\", \"cohort\", \"orientation\", \"daily\", \"born\", \"opioid_harm\", \"iei_slds\", \"opioid_supply\", \"opioid_prescription\", \"monthly_number\", \"treatment_capacity\", \"type_drug\", \"opioid_misuse\", \"nine\", \"retail_sales\", \"epidemic\", \"contracting\", \"funding\", \"criminal_justice\", \"engagement\", \"opioid_epidemic\", \"pilot\", \"compile\", \"disorder\", \"dashboard\", \"million\", \"laws\", \"month\", \"life\", \"comprehensive\", \"confidential\", \"two\", \"update\", \"design\", \"services\", \"number\", \"performance\", \"department\", \"health\", \"partner\", \"industry\", \"learning\", \"patient\", \"innovation\", \"target\", \"population\", \"initiative\", \"workforce\", \"contract\", \"integrate\", \"intelligent_assistant\", \"vet\", \"eviction\", \"year_year\", \"collaborator\", \"chamber_commerce\", \"end_year\", \"read\", \"upgrade\", \"notification\", \"character\", \"consumer_facing\", \"automation\", \"traffic_person\", \"tip\", \"council_domain\", \"fraud_abuse\", \"constant\", \"longitudinal_dataset\", \"veteran_currently\", \"summit_consult\", \"measuring_ability\", \"statistics_wage\", \"self_sustain\", \"building_partnership\", \"market_earnings\", \"express_strong\", \"employer_employer\", \"acceptable_surety\", \"census_tax\", \"miss\", \"standardization\", \"company\", \"unstructured\", \"accounting\", \"expect\", \"automate\", \"corruption\", \"largely\", \"natural_processing\", \"processing\", \"minimize\", \"causal\", \"consumer\", \"standardize\", \"structure\", \"treasury\", \"costs\", \"conduct\", \"traditional\", \"efficiency\", \"technology\", \"database\", \"determine\", \"scale\", \"manage\", \"along\", \"without\", \"integrate\", \"innovation\", \"foundation\", \"services\", \"establish\", \"value\", \"industry\", \"cognitive\", \"forensics\", \"snap_administrative\", \"job_seeker\", \"maturity_model\", \"ward\", \"snap_benefit\", \"administer\", \"dollar\", \"intuitive\", \"seeker\", \"career_path\", \"job_apprenticeship\", \"eligible\", \"mobile\", \"away\", \"cloud_archival\", \"design_drive\", \"snap_participant\", \"census_snap\", \"census_usda\", \"food_insecurity\", \"infant_child\", \"web_design\", \"population_survey\", \"aggressively_cloud\", \"overcome\", \"estimate_snap\", \"relatively\", \"remains_neutral\", \"transit\", \"mobility\", \"previous\", \"proposal\", \"skill\", \"partnership\", \"line\", \"custom\", \"job\", \"credentials\", \"student\", \"advisor\", \"look\", \"employment\", \"digital\", \"concept\", \"census\", \"capability\", \"expand\", \"training\", \"cloud\", \"administrative\", \"design\", \"employer\", \"survey\", \"future\", \"working\", \"services\", \"complex\", \"able\", \"community\", \"opportunity\", \"benefit\", \"question\", \"target\", \"dashboard\", \"homelessness\", \"road\", \"food_drug\", \"pew\", \"efficient_effective\", \"provider_readiness\", \"regulatory\", \"agenda\", \"law_monthly\", \"progress_payment\", \"airline\", \"family_experience\", \"crosswalk\", \"loser\", \"emergency_room\", \"survey_lottery\", \"lottery_winner\", \"cybersecurity\", \"another_community\", \"food_assistance\", \"compliance_costs\", \"winter\", \"fields_collect\", \"investigating\", \"cosmetic\", \"employment_benefit\", \"weather_variety\", \"regulate\", \"food\", \"involvement\", \"safety\", \"task_force\", \"domain\", \"role\", \"manage\", \"framework\", \"concept\", \"similar\", \"leadership\", \"anticipate\", \"leverage\", \"stewardship\", \"model\", \"service\", \"workforce\", \"risk\", \"housing\", \"collect\", \"training\", \"developing\", \"student\", \"reporting\", \"technology\", \"industry\", \"enhance\", \"health\", \"opportunity\", \"structure\", \"foreign_assistance\", \"veteran_suicide\", \"urban_rural\", \"ivy_tech\", \"highly_rural\", \"suicide_veteran\", \"technology_engineering\", \"mapping_veteran\", \"propose_budget\", \"affairs_department\", \"categorization\", \"patent_patent\", \"congressionally_approve\", \"financial_performance\", \"veteran_affairs\", \"municipality\", \"standardize_development\", \"alignment\", \"ides\", \"actively_working\", \"legislation\", \"homelessness_veteran\", \"foreignassistance_gov\", \"eliminate_silo\", \"internal_efficiency\", \"two_week\", \"leader_working\", \"census_tract\", \"urban_versus\", \"resident_urban\", \"previously\", \"budget\", \"department_veteran\", \"comment\", \"percent\", \"sentiment\", \"patent\", \"patent_trademark\", \"mental_health\", \"health_services\", \"publish\", \"reporting\", \"performance\", \"method\", \"student\", \"department\", \"quickly\", \"community\", \"explore\", \"opportunity\", \"activity\", \"year\", \"initiative\", \"model\", \"head_start\", \"early_childhood\", \"gun_violence\", \"central_repository\", \"child_care\", \"sub_selection\", \"reminder\", \"juvenile_recidivism\", \"illustrate\", \"underway\", \"gun\", \"movement\", \"infrastructure_accessible\", \"description\", \"forecast_development\", \"growth_prime\", \"derivative_financial\", \"lower_economic\", \"welcome_trust\", \"industry_dependent\", \"seasonal_catalyze\", \"human_costs\", \"medical_institute\", \"biomedical\", \"content_solve\", \"gather_child\", \"multi_billion\", \"around_prototype\", \"international_collaboration\", \"foster_economic\", \"dollar_weather\", \"know\", \"medicine\", \"child\", \"child_family\", \"disparity\", \"weather\", \"commercialization_innovation\", \"provider\", \"visualization\", \"external\", \"mapping\", \"analytics\", \"grant\", \"utilization\", \"architecture\", \"generate\", \"assessment\", \"hard\", \"portal\", \"part\", \"especially\", \"higher\", \"health\", \"detect\", \"currently\", \"understanding\", \"others\", \"experience\", \"collaboration\", \"pattern\", \"dashboard\", \"number\"], \"Total\": [25.0, 10.0, 10.0, 23.0, 22.0, 12.0, 7.0, 9.0, 12.0, 10.0, 14.0, 14.0, 18.0, 7.0, 7.0, 12.0, 20.0, 18.0, 15.0, 6.0, 13.0, 7.0, 14.0, 6.0, 17.0, 13.0, 5.0, 17.0, 28.0, 17.0, 7.34536075592041, 6.521129608154297, 6.519174098968506, 5.69795560836792, 4.87332010269165, 4.873087406158447, 4.870656967163086, 4.049550533294678, 4.049497604370117, 4.049466609954834, 4.049312114715576, 3.225754499435425, 3.225633382797241, 3.225672721862793, 3.2256646156311035, 3.2255897521972656, 3.2256078720092773, 3.2256462574005127, 3.225450038909912, 3.2254934310913086, 3.225464344024658, 3.2254388332366943, 3.223679542541504, 3.226987600326538, 6.354278564453125, 3.210566282272339, 6.587835311889648, 2.401643991470337, 2.4016566276550293, 2.401653528213501, 4.708985328674316, 14.408364295959473, 4.766226291656494, 7.189273834228516, 13.68751049041748, 8.961905479431152, 22.288089752197266, 11.114360809326172, 9.580362319946289, 13.449531555175781, 19.2450008392334, 6.494393348693848, 4.779871940612793, 4.9402947425842285, 4.939218521118164, 11.716476440429688, 7.040240287780762, 16.241497039794922, 22.111082077026367, 12.917064666748047, 28.836931228637695, 11.07526683807373, 11.38644027709961, 11.141181945800781, 10.370758056640625, 17.98690414428711, 12.177794456481934, 12.392492294311523, 17.5994930267334, 30.494718551635742, 34.63707733154297, 26.37824058532715, 7.206032752990723, 5.054256916046143, 4.33768892288208, 4.3375444412231445, 3.6206769943237305, 3.620704174041748, 3.620619773864746, 3.6206445693969727, 7.235115051269531, 9.365856170654297, 2.903843641281128, 2.903864622116089, 2.903902053833008, 2.9038352966308594, 2.9038424491882324, 2.903958797454834, 5.800926208496094, 2.9043972492218018, 2.905156373977661, 2.9052765369415283, 2.187002182006836, 2.187012195587158, 2.18701434135437, 2.187032461166382, 2.1870079040527344, 2.1870265007019043, 2.187037944793701, 2.1869966983795166, 2.1870412826538086, 2.1870431900024414, 6.498659610748291, 4.351080417633057, 12.219213485717773, 25.563316345214844, 2.9063026905059814, 5.189964771270752, 3.7942779064178467, 12.917064666748047, 28.002504348754883, 4.3095831871032715, 10.67031192779541, 27.008577346801758, 7.582845211029053, 14.244643211364746, 12.755513191223145, 17.314756393432617, 6.502963066101074, 24.643518447875977, 9.516331672668457, 10.734296798706055, 20.640243530273438, 34.63707733154297, 30.494718551635742, 7.478447914123535, 6.726081371307373, 3.739823341369629, 3.7401444911956787, 10.47707748413086, 2.993223190307617, 2.9932239055633545, 2.993333339691162, 2.9932680130004883, 2.9932942390441895, 2.9933629035949707, 2.9934210777282715, 5.892402648925781, 2.9930756092071533, 2.2466511726379395, 2.2466511726379395, 2.246645212173462, 2.246603012084961, 2.246621608734131, 2.2466354370117188, 2.246779203414917, 2.246786594390869, 2.2467870712280273, 2.2466397285461426, 2.2466320991516113, 2.2466113567352295, 2.246613025665283, 2.246821403503418, 2.246644973754883, 2.2466726303100586, 6.694754600524902, 5.97752046585083, 6.087637424468994, 14.330962181091309, 9.568767547607422, 8.17798137664795, 6.809635639190674, 5.180825710296631, 3.710054874420166, 3.7157015800476074, 3.7115445137023926, 5.454403400421143, 3.773933172225952, 7.7507734298706055, 7.821605205535889, 10.269510269165039, 12.820348739624023, 16.895689010620117, 11.913131713867188, 6.031506538391113, 13.659245491027832, 10.02011775970459, 19.019649505615234, 8.581249237060547, 7.702935695648193, 6.251236915588379, 6.251295566558838, 11.385937690734863, 12.134361267089844, 17.5994930267334, 14.515437126159668, 21.252065658569336, 28.002504348754883, 26.123003005981445, 17.763540267944336, 18.387224197387695, 7.877407073974609, 6.986692428588867, 6.096630573272705, 6.096132755279541, 6.096094131469727, 6.09627103805542, 6.095880031585693, 6.095362663269043, 6.093508243560791, 5.205845355987549, 5.205826282501221, 5.205633163452148, 5.205586910247803, 5.205587863922119, 5.205479145050049, 11.291581153869629, 5.203874588012695, 4.3154497146606445, 4.315496921539307, 4.315171718597412, 4.315314769744873, 4.315176963806152, 4.315168857574463, 4.3151655197143555, 4.315167427062988, 4.315140724182129, 4.315042972564697, 4.315145015716553, 4.314815521240234, 13.04334545135498, 8.620796203613281, 17.995681762695312, 11.02770709991455, 11.141039848327637, 12.818133354187012, 18.387632369995117, 6.755285739898682, 6.756920337677002, 29.295467376708984, 13.538495063781738, 13.750348091125488, 10.941154479980469, 14.097912788391113, 13.423030853271484, 8.426398277282715, 14.233015060424805, 10.817090034484863, 27.537878036499023, 34.63707733154297, 21.013750076293945, 21.530563354492188, 30.257814407348633, 28.836931228637695, 19.752958297729492, 23.25165367126465, 16.2187442779541, 22.111082077026367, 16.678071975708008, 17.1710205078125, 17.037336349487305, 20.1016902923584, 18.97499656677246, 25.563316345214844, 25.8378963470459, 6.5303874015808105, 5.086683750152588, 5.0845441818237305, 3.642136335372925, 3.6450183391571045, 4.394988059997559, 2.9199891090393066, 2.919865846633911, 2.919826030731201, 2.9203147888183594, 2.9198031425476074, 2.9223015308380127, 5.081079959869385, 2.197733163833618, 2.197733163833618, 2.197733163833618, 2.197679281234741, 2.1977083683013916, 2.197801351547241, 2.1978061199188232, 2.1978135108947754, 2.197880268096924, 2.1978893280029297, 2.1978137493133545, 2.1979072093963623, 2.1979005336761475, 2.1979010105133057, 2.197903871536255, 2.1979920864105225, 2.197902202606201, 3.5791079998016357, 5.135256767272949, 18.015239715576172, 7.334437370300293, 5.249108791351318, 7.374826431274414, 9.495407104492188, 3.7438137531280518, 3.74383807182312, 5.2628493309021, 7.677363395690918, 3.8103456497192383, 3.5702669620513916, 8.412899017333984, 20.640243530273438, 15.585065841674805, 5.996592998504639, 17.423721313476562, 15.682991027832031, 6.313747406005859, 10.461702346801758, 17.536861419677734, 18.022918701171875, 12.8975830078125, 13.316479682922363, 13.707152366638184, 10.685526847839355, 15.451519012451172, 25.8378963470459, 16.678071975708008, 11.263558387756348, 34.63707733154297, 20.128305435180664, 17.51153564453125, 23.25165367126465, 5.43627405166626, 4.6562395095825195, 4.656057834625244, 4.655732154846191, 3.0950822830200195, 3.09507417678833, 3.0950074195861816, 3.0950300693511963, 3.0950100421905518, 3.0948619842529297, 3.0948634147644043, 3.094862222671509, 3.094963312149048, 6.147250175476074, 5.479988098144531, 2.314551591873169, 2.314561128616333, 2.314631938934326, 2.3145101070404053, 2.3145060539245605, 2.314491033554077, 2.3144960403442383, 2.3145015239715576, 2.3146402835845947, 2.3144993782043457, 2.314580202102661, 2.314483165740967, 2.3145079612731934, 2.3145592212677, 2.314467668533325, 4.606194019317627, 4.6222662925720215, 4.765946865081787, 7.64213228225708, 6.368643760681152, 11.842089653015137, 7.981860160827637, 6.830935001373291, 13.490575790405273, 3.7540016174316406, 23.800703048706055, 3.8169848918914795, 7.504420280456543, 22.954376220703125, 7.572329998016357, 8.014925003051758, 13.335063934326172, 17.344436645507812, 16.999465942382812, 20.82578468322754, 11.532609939575195, 26.123003005981445, 27.537878036499023, 12.833808898925781, 18.260299682617188, 14.490484237670898, 18.336782455444336, 34.63707733154297, 10.016231536865234, 13.951804161071777, 30.494718551635742, 22.894460678100586, 28.002504348754883, 14.966313362121582, 17.1710205078125, 29.295467376708984, 3.390137195587158, 3.3903210163116455, 3.3912642002105713, 2.7307939529418945, 2.731125831604004, 2.7310903072357178, 10.244938850402832, 2.0716629028320312, 2.071662664413452, 2.071662664413452, 2.0716629028320312, 2.0717034339904785, 2.071707010269165, 2.0717177391052246, 2.0717215538024902, 2.0717222690582275, 2.0717263221740723, 2.0717663764953613, 2.071847438812256, 2.0718445777893066, 2.0718436241149902, 2.0719285011291504, 2.071855306625366, 2.072208881378174, 2.072315216064453, 2.0719618797302246, 2.0745949745178223, 5.668478965759277, 6.986800193786621, 3.621626138687134, 6.5415568351745605, 5.8606743812561035, 8.501978874206543, 6.708313465118408, 13.707152366638184, 11.815230369567871, 8.014925003051758, 13.431283950805664, 9.008915901184082, 5.235440254211426, 13.61155891418457, 5.806399345397949, 26.37824058532715, 18.513816833496094, 18.97499656677246, 27.008577346801758, 7.602238178253174, 16.045717239379883, 20.82578468322754, 7.952085971832275, 23.800703048706055, 25.845495223999023, 17.536861419677734, 23.25165367126465, 13.953766822814941, 28.836931228637695, 22.894460678100586, 15.585065841674805, 10.988219261169434, 5.1364288330078125, 4.405918598175049, 3.6755945682525635, 3.6754331588745117, 3.67543625831604, 3.6754214763641357, 3.67541766166687, 3.6754777431488037, 2.9449548721313477, 2.9449408054351807, 2.946739912033081, 2.9449305534362793, 2.944920063018799, 5.916931629180908, 2.2144718170166016, 2.2144718170166016, 2.2144718170166016, 2.2144715785980225, 2.2144744396209717, 2.2144834995269775, 2.2144763469696045, 2.21460223197937, 2.214515209197998, 2.2145962715148926, 2.2145094871520996, 2.21444034576416, 2.2144415378570557, 2.214446544647217, 2.214442491531372, 6.7495856285095215, 12.696758270263672, 8.028885841369629, 9.731502532958984, 3.6042017936706543, 5.166455268859863, 6.9124579429626465, 3.6671407222747803, 5.982613563537598, 6.2791242599487305, 6.736933708190918, 25.845495223999023, 21.530563354492188, 13.703055381774902, 23.800703048706055, 30.257814407348633, 9.867382049560547, 30.494718551635742, 8.882417678833008, 22.894460678100586, 12.841350555419922, 14.753233909606934, 20.1016902923584, 26.37824058532715, 7.858547210693359, 5.727117538452148, 3.5955748558044434, 3.5953145027160645, 3.595613718032837, 3.595658302307129, 2.1743693351745605, 2.1743786334991455, 2.1743721961975098, 2.1744322776794434, 2.174485921859741, 2.1744275093078613, 2.1743381023406982, 2.174424648284912, 2.17440128326416, 2.1744041442871094, 2.1744041442871094, 2.174406051635742, 2.1744909286499023, 2.174405574798584, 2.174407482147217, 2.174407720565796, 2.1744918823242188, 2.1745002269744873, 2.174510955810547, 2.17446231842041, 2.174410104751587, 2.174518585205078, 2.174516201019287, 2.1744096279144287, 2.174410820007324, 5.029221534729004, 3.5463433265686035, 14.633739471435547, 5.3761749267578125, 3.775608539581299, 7.957228660583496, 4.434622764587402, 22.288089752197266, 12.359501838684082, 7.317578315734863, 8.286286354064941, 24.643518447875977, 18.643585205078125, 8.300665855407715, 9.581231117248535, 10.099752426147461, 12.057668685913086, 5.98542594909668, 6.002023696899414, 12.599952697753906, 6.058639049530029, 6.060235977172852, 28.836931228637695, 6.809727668762207, 18.652822494506836, 21.252065658569336, 15.728092193603516, 13.625044822692871, 12.761594772338867, 13.13498306274414, 29.295467376708984, 21.013750076293945], \"loglift\": [30.0, 29.0, 28.0, 27.0, 26.0, 25.0, 24.0, 23.0, 22.0, 21.0, 20.0, 19.0, 18.0, 17.0, 16.0, 15.0, 14.0, 13.0, 12.0, 11.0, 10.0, 9.0, 8.0, 7.0, 6.0, 5.0, 4.0, 3.0, 2.0, 1.0, 1.7914999723434448, 1.7781000137329102, 1.774899959564209, 1.7626999616622925, 1.7395999431610107, 1.7389999628067017, 1.7366000413894653, 1.7075999975204468, 1.7075999975204468, 1.7072999477386475, 1.7071000337600708, 1.6571999788284302, 1.6569000482559204, 1.6569000482559204, 1.6569000482559204, 1.6568000316619873, 1.656599998474121, 1.656499981880188, 1.656499981880188, 1.6563999652862549, 1.6563999652862549, 1.6563999652862549, 1.6526999473571777, 1.6509000062942505, 1.6502000093460083, 1.6311999559402466, 1.6172000169754028, 1.5643999576568604, 1.5642999410629272, 1.5642999410629272, 1.5572999715805054, 1.517899990081787, 1.5444999933242798, 1.530500054359436, 1.4815000295639038, 1.4609999656677246, 1.235700011253357, 1.3768999576568604, 1.3948999643325806, 1.260599970817566, 1.1370999813079834, 1.4531999826431274, 1.5413000583648682, 1.5092999935150146, 1.506500005722046, 1.1913000345230103, 1.37090003490448, 0.9872999787330627, 0.7879999876022339, 1.044800043106079, 0.6424000263214111, 1.0927000045776367, 1.0709999799728394, 1.0794999599456787, 1.1115000247955322, 0.758899986743927, 1.000100016593933, 0.9866999983787537, 0.7142999768257141, 0.23690000176429749, 0.10830000042915344, 0.25940001010894775, 2.4221999645233154, 2.4003000259399414, 2.371299982070923, 2.368299961090088, 2.337399959564209, 2.3371999263763428, 2.3357999324798584, 2.3355000019073486, 2.308300018310547, 2.287400007247925, 2.2797000408172607, 2.2792000770568848, 2.27839994430542, 2.2780001163482666, 2.2764999866485596, 2.2757999897003174, 2.262500047683716, 2.2416999340057373, 2.204900026321411, 2.1972999572753906, 2.175800085067749, 2.1754000186920166, 2.175299882888794, 2.175299882888794, 2.175299882888794, 2.1751999855041504, 2.1751999855041504, 2.1751999855041504, 2.175100088119507, 2.175100088119507, 2.148699998855591, 2.15339994430542, 2.036799907684326, 1.809399962425232, 2.1287999153137207, 1.9708000421524048, 2.0113000869750977, 1.6133999824523926, 1.1883000135421753, 1.8846999406814575, 1.4581999778747559, 0.9143000245094299, 1.5979000329971313, 1.1855000257492065, 1.2343000173568726, 0.9905999898910522, 1.6634999513626099, 0.6384999752044678, 1.368299961090088, 1.2515000104904175, 0.7095000147819519, 0.23019999265670776, 0.2069000005722046, 2.2706000804901123, 2.2651000022888184, 2.172600030899048, 2.172600030899048, 2.137200117111206, 2.1166000366210938, 2.1166000366210938, 2.116499900817871, 2.1161999702453613, 2.1161000728607178, 2.1159000396728516, 2.115799903869629, 2.114000082015991, 2.1138999462127686, 2.0162999629974365, 2.0162999629974365, 2.0160000324249268, 2.015899896621704, 2.0157999992370605, 2.0157999992370605, 2.0157999992370605, 2.0157999992370605, 2.0157999992370605, 2.015700101852417, 2.015700101852417, 2.015700101852417, 2.0155999660491943, 2.0155999660491943, 2.0155999660491943, 2.015399932861328, 1.9860999584197998, 1.9213999509811401, 1.8985999822616577, 1.728600025177002, 1.7811000347137451, 1.7860000133514404, 1.7919000387191772, 1.847100019454956, 1.901900053024292, 1.9002000093460083, 1.8950999975204468, 1.795300006866455, 1.8849999904632568, 1.6613999605178833, 1.6532000303268433, 1.5591000318527222, 1.489799976348877, 1.323099970817566, 1.4104000329971313, 1.6943999528884888, 1.336300015449524, 1.4056999683380127, 1.0269999504089355, 1.475600004196167, 1.5299999713897705, 1.6591999530792236, 1.6588000059127808, 1.2776999473571777, 1.2138999700546265, 0.9333999752998352, 1.034999966621399, 0.7027000188827515, 0.384799987077713, 0.42739999294281006, 0.6966000199317932, 1.2805999517440796, 1.2718000411987305, 1.26010000705719, 1.2455999851226807, 1.2448999881744385, 1.2447999715805054, 1.2447999715805054, 1.2446999549865723, 1.2438000440597534, 1.2415000200271606, 1.2242000102996826, 1.2240999937057495, 1.2240999937057495, 1.2239999771118164, 1.2239999771118164, 1.2237999439239502, 1.2237000465393066, 1.2213000059127808, 1.194200038909912, 1.194200038909912, 1.1938999891281128, 1.1938999891281128, 1.1938999891281128, 1.1938999891281128, 1.1938999891281128, 1.1938999891281128, 1.1937999725341797, 1.1937999725341797, 1.1937999725341797, 1.193600058555603, 1.1683000326156616, 1.1784000396728516, 1.131700038909912, 1.1557999849319458, 1.1200000047683716, 1.0990999937057495, 1.0430999994277954, 1.1420999765396118, 1.1416000127792358, 0.9599000215530396, 1.041200041770935, 1.029099941253662, 1.0592000484466553, 1.00409996509552, 0.9368000030517578, 1.0728000402450562, 0.8999999761581421, 0.9563000202178955, 0.599399983882904, 0.37610000371932983, 0.6007999777793884, 0.5789999961853027, 0.35589998960494995, 0.37380000948905945, 0.5562999844551086, 0.4503999948501587, 0.6608999967575073, 0.4602999985218048, 0.6316999793052673, 0.6085000038146973, 0.5906000137329102, 0.44510000944137573, 0.49059998989105225, 0.2069000005722046, 0.1923999935388565, 2.3784000873565674, 2.3447000980377197, 2.341200113296509, 2.2832999229431152, 2.275899887084961, 2.2527999877929688, 2.2258999347686768, 2.225800037384033, 2.225600004196167, 2.2255001068115234, 2.225100040435791, 2.2179999351501465, 2.1677000522613525, 2.1233999729156494, 2.1233999729156494, 2.1233999729156494, 2.122499942779541, 2.122299909591675, 2.122299909591675, 2.1222000122070312, 2.1222000122070312, 2.1222000122070312, 2.1222000122070312, 2.1222000122070312, 2.1221001148223877, 2.1221001148223877, 2.1221001148223877, 2.1221001148223877, 2.1221001148223877, 2.1221001148223877, 2.021399974822998, 1.9392000436782837, 1.572700023651123, 1.7998000383377075, 1.8878999948501587, 1.795799970626831, 1.7213000059127808, 1.9775999784469604, 1.9764000177383423, 1.875, 1.7554999589920044, 1.9598000049591064, 1.9788000583648682, 1.7172000408172607, 1.4212000370025635, 1.486899971961975, 1.7767000198364258, 1.395799994468689, 1.368299961090088, 1.732300043106079, 1.4453999996185303, 1.0968999862670898, 1.0729000568389893, 1.2372000217437744, 1.204699993133545, 1.1757999658584595, 1.3224999904632568, 1.0494999885559082, 0.6787999868392944, 0.9340000152587891, 1.2314000129699707, 0.11100000143051147, 0.6244000196456909, 0.7390999794006348, 0.4316999912261963, 2.051100015640259, 2.0292999744415283, 2.0285000801086426, 2.0272998809814453, 1.9413000345230103, 1.940500020980835, 1.9404000043869019, 1.9402999877929688, 1.9401999711990356, 1.9395999908447266, 1.9395999908447266, 1.9395999908447266, 1.9394999742507935, 1.9296000003814697, 1.864400029182434, 1.8437999486923218, 1.843400001525879, 1.843400001525879, 1.843400001525879, 1.8432999849319458, 1.8432999849319458, 1.8432999849319458, 1.8432999849319458, 1.8431999683380127, 1.8431999683380127, 1.8431999683380127, 1.8431999683380127, 1.8431999683380127, 1.8431999683380127, 1.843000054359436, 1.8224999904632568, 1.818600058555603, 1.787600040435791, 1.7110999822616577, 1.7142000198364258, 1.6291999816894531, 1.6682000160217285, 1.6452000141143799, 1.4970999956130981, 1.7467000484466553, 1.3387999534606934, 1.729699969291687, 1.5513999462127686, 1.25409996509552, 1.5413999557495117, 1.4850000143051147, 1.3061000108718872, 1.1748000383377075, 1.1790000200271606, 1.0611000061035156, 1.3001999855041504, 0.82669997215271, 0.7897999882698059, 1.1922999620437622, 0.9927999973297119, 1.0717999935150146, 0.8841999769210815, 0.4260999858379364, 1.2627999782562256, 1.017899990081787, 0.3986999988555908, 0.5936999917030334, 0.41339999437332153, 0.8966000080108643, 0.7246000170707703, 0.1898999959230423, 2.561800003051758, 2.5613999366760254, 2.5604000091552734, 2.5, 2.499000072479248, 2.499000072479248, 2.449899911880493, 2.3886001110076904, 2.3886001110076904, 2.3886001110076904, 2.3886001110076904, 2.3882999420166016, 2.3882999420166016, 2.388200044631958, 2.388200044631958, 2.388200044631958, 2.388200044631958, 2.388000011444092, 2.3877999782562256, 2.387700080871582, 2.387399911880493, 2.3873000144958496, 2.3873000144958496, 2.3868000507354736, 2.3866000175476074, 2.386399984359741, 2.3784000873565674, 2.2441999912261963, 2.2348999977111816, 2.217099905014038, 2.1219000816345215, 2.016700029373169, 1.8609000444412231, 1.8789000511169434, 1.551900029182434, 1.5306999683380127, 1.7015000581741333, 1.403499960899353, 1.5843000411987305, 1.8454999923706055, 1.2640999555587769, 1.7453999519348145, 0.6779000163078308, 0.8689000010490417, 0.840399980545044, 0.5906000137329102, 1.476199984550476, 0.9394999742507935, 0.7468000054359436, 1.430799961090088, 0.6140999794006348, 0.5329999923706055, 0.7300999760627747, 0.44830000400543213, 0.8833000063896179, 0.14470000565052032, 0.37529999017715454, 0.7597000002861023, 2.3940000534057617, 2.3203001022338867, 2.295099973678589, 2.258699893951416, 2.258699893951416, 2.258699893951416, 2.258500099182129, 2.258500099182129, 2.254499912261963, 2.2016000747680664, 2.2014000415802, 2.197700023651123, 2.197200059890747, 2.1960999965667725, 2.1791000366210938, 2.0996999740600586, 2.0996999740600586, 2.0996999740600586, 2.0996999740600586, 2.099400043487549, 2.099400043487549, 2.099100112915039, 2.0989999771118164, 2.0989999771118164, 2.0989999771118164, 2.0989999771118164, 2.0989999771118164, 2.0989999771118164, 2.098900079727173, 2.098900079727173, 2.0439000129699707, 2.0106000900268555, 2.0251998901367188, 1.8329999446868896, 1.9996000528335571, 1.9178999662399292, 1.8395999670028687, 1.9807000160217285, 1.7714999914169312, 1.7229000329971313, 1.652500033378601, 1.0814000368118286, 1.1577999591827393, 1.3285000324249268, 1.0714999437332153, 0.8646000027656555, 1.442199945449829, 0.6917999982833862, 1.3770999908447266, 0.6039000153541565, 0.9950000047683716, 0.8478999733924866, 0.5605999827384949, 0.28839999437332153, 2.469899892807007, 2.4342000484466553, 2.352299928665161, 2.3522000312805176, 2.352099895477295, 2.351300001144409, 2.1893999576568604, 2.188999891281128, 2.1888999938964844, 2.1888999938964844, 2.1888999938964844, 2.1888999938964844, 2.188800096511841, 2.188800096511841, 2.1886000633239746, 2.188499927520752, 2.188499927520752, 2.188499927520752, 2.188499927520752, 2.188499927520752, 2.188499927520752, 2.1884000301361084, 2.1884000301361084, 2.1884000301361084, 2.1884000301361084, 2.1884000301361084, 2.1884000301361084, 2.1884000301361084, 2.1882998943328857, 2.1882998943328857, 2.1882998943328857, 2.0160000324249268, 2.0868000984191895, 1.74399995803833, 1.9499000310897827, 2.0243000984191895, 1.7756999731063843, 1.8630000352859497, 1.0759999752044678, 1.3553999662399292, 1.6009000539779663, 1.5379999876022339, 0.9758999943733215, 1.1033999919891357, 1.5156999826431274, 1.3726999759674072, 1.319200038909912, 1.1419999599456787, 1.5636999607086182, 1.5607999563217163, 1.0987000465393066, 1.551800012588501, 1.5513999462127686, 0.49320000410079956, 1.4349000453948975, 0.7195000052452087, 0.5756000280380249, 0.6310999989509583, 0.758400022983551, 0.8199999928474426, 0.7901999950408936, -0.014299999922513962, 0.31439998745918274], \"logprob\": [30.0, 29.0, 28.0, 27.0, 26.0, 25.0, 24.0, 23.0, 22.0, 21.0, 20.0, 19.0, 18.0, 17.0, 16.0, 15.0, 14.0, 13.0, 12.0, 11.0, 10.0, 9.0, 8.0, 7.0, 6.0, 5.0, 4.0, 3.0, 2.0, 1.0, -5.788899898529053, -5.92140007019043, -5.924799919128418, -6.071599960327148, -6.251100063323975, -6.251699924468994, -6.254700183868408, -6.468299865722656, -6.468299865722656, -6.468599796295166, -6.468900203704834, -6.746200084686279, -6.746500015258789, -6.746500015258789, -6.746500015258789, -6.746600151062012, -6.746799945831299, -6.7469000816345215, -6.7469000816345215, -6.747000217437744, -6.747000217437744, -6.747000217437744, -6.751299858093262, -6.752099990844727, -6.075099945068359, -6.776800155639648, -6.0721001625061035, -7.133999824523926, -7.133999824523926, -7.134099960327148, -6.467800140380859, -5.388800144195557, -6.468400001525879, -6.071400165557861, -5.476500034332275, -5.920499801635742, -5.234799861907959, -5.789400100708008, -5.9197998046875, -5.714900016784668, -5.480199813842773, -6.250400066375732, -6.468800067901611, -6.467700004577637, -6.470799922943115, -5.9222002029418945, -6.251999855041504, -5.799600124359131, -5.690400123596191, -5.971099853515625, -5.570400238037109, -6.077000141143799, -6.071100234985352, -6.084400177001953, -6.124000072479248, -5.925899982452393, -6.07480001449585, -6.070700168609619, -5.992400169372559, -5.920100212097168, -5.921299934387207, -6.042600154876709, -5.1774001121521, -5.553899765014648, -5.735899925231934, -5.738900184631348, -5.950500011444092, -5.9506001472473145, -5.952000141143799, -5.952300071716309, -5.287199974060059, -5.050000190734863, -6.228799819946289, -6.2291998863220215, -6.230100154876709, -6.230400085449219, -6.231900215148926, -6.232600212097168, -5.553899765014648, -6.266600131988525, -6.303100109100342, -6.3105998039245605, -6.616199970245361, -6.616600036621094, -6.616600036621094, -6.616600036621094, -6.616700172424316, -6.616700172424316, -6.616700172424316, -6.616799831390381, -6.616799831390381, -6.616799831390381, -5.554200172424316, -5.950699806213379, -5.0346999168396, -4.52400016784668, -6.378799915313721, -5.956999778747559, -6.229700088500977, -5.402500152587891, -5.053899765014648, -6.228899955749512, -5.748799800872803, -5.363999843597412, -5.950699806213379, -5.732600212097168, -5.7941999435424805, -5.7322998046875, -6.038700103759766, -5.731500148773193, -5.953199863433838, -5.9496002197265625, -5.837800025939941, -5.7993998527526855, -5.950099945068359, -5.291900157928467, -5.40339994430542, -6.082900047302246, -6.082799911499023, -5.088200092315674, -6.361499786376953, -6.361599922180176, -6.361599922180176, -6.3618998527526855, -6.361999988555908, -6.362199783325195, -6.362299919128418, -5.6869001388549805, -6.364299774169922, -6.748700141906738, -6.748700141906738, -6.749100208282471, -6.749199867248535, -6.749199867248535, -6.749300003051758, -6.749199867248535, -6.749199867248535, -6.749199867248535, -6.749300003051758, -6.749300003051758, -6.7494001388549805, -6.7494001388549805, -6.7494001388549805, -6.749499797821045, -6.749599933624268, -5.686999797821045, -5.865099906921387, -5.86959981918335, -5.183499813079834, -5.534900188446045, -5.687099933624268, -5.864299774169922, -6.082399845123291, -6.361499786376953, -6.361800193786621, -6.368000030517578, -6.082799911499023, -6.361400127410889, -5.8653998374938965, -5.8643999099731445, -5.686200141906738, -5.533699989318848, -5.424300193786621, -5.686399936676025, -6.083099842071533, -5.623700141906738, -5.864200115203857, -5.6020002365112305, -5.9492998123168945, -6.002900123596191, -6.082499980926514, -6.083000183105469, -5.8643999099731445, -5.86460018157959, -5.7733001708984375, -5.864299774169922, -5.815400123596191, -5.857399940490723, -5.884200096130371, -6.000699996948242, -5.382199764251709, -6.238699913024902, -6.370299816131592, -6.521200180053711, -6.521900177001953, -6.521999835968018, -6.521999835968018, -6.522200107574463, -6.523099899291992, -6.525700092315674, -6.700500011444092, -6.7006001472473145, -6.700699806213379, -6.700699806213379, -6.700799942016602, -6.700900077819824, -5.926799774169922, -6.703800201416016, -6.918099880218506, -6.918099880218506, -6.918399810791016, -6.918399810791016, -6.918499946594238, -6.918499946594238, -6.918499946594238, -6.918499946594238, -6.918499946594238, -6.918600082397461, -6.918600082397461, -6.918900012969971, -5.8379998207092285, -6.2418999671936035, -5.552599906921387, -6.0183000564575195, -6.043900012969971, -5.924600124359131, -5.619699954986572, -6.521999835968018, -6.52239990234375, -5.237199783325195, -5.927700042724609, -5.924300193786621, -6.122799873352051, -5.9243998527526855, -6.040800094604492, -6.370299816131592, -6.018899917602539, -6.237100124359131, -5.6595001220703125, -5.653500080108643, -5.928500175476074, -5.92609977722168, -5.808899879455566, -5.839000225067139, -6.034900188446045, -5.977799892425537, -6.127500057220459, -6.018099784851074, -6.128699779510498, -6.122799873352051, -6.148499965667725, -6.128499984741211, -6.140699863433838, -6.126500129699707, -6.130199909210205, -5.3196001052856445, -5.6031999588012695, -5.607100009918213, -5.998600006103516, -6.005199909210205, -5.841300010681152, -6.2769999504089355, -6.277200222015381, -6.277400016784668, -6.277299880981445, -6.277900218963623, -6.28410005569458, -5.781300067901611, -6.663700103759766, -6.663700103759766, -6.663700103759766, -6.664599895477295, -6.66480016708374, -6.664700031280518, -6.66480016708374, -6.66480016708374, -6.66480016708374, -6.66480016708374, -6.664899826049805, -6.664899826049805, -6.664899826049805, -6.664899826049805, -6.664899826049805, -6.664899826049805, -6.664899826049805, -6.2779998779296875, -5.999199867248535, -5.110599994659424, -5.782199859619141, -6.028600215911865, -5.780600070953369, -5.602399826049805, -6.276800155639648, -6.2779998779296875, -6.03879976272583, -5.780700206756592, -6.276899814605713, -6.322999954223633, -5.727499961853027, -5.126100063323975, -5.341300010681152, -6.0065999031066895, -5.320899963378906, -5.45359992980957, -5.999499797821045, -5.781400203704834, -5.61329984664917, -5.609899997711182, -5.780300140380859, -5.780799865722656, -5.780799865722656, -5.8831000328063965, -5.787199974060059, -5.643899917602539, -5.826399803161621, -5.921500205993652, -5.918600082397461, -5.947999954223633, -5.972599983215332, -5.996399879455566, -5.8302998542785645, -6.006999969482422, -6.007800102233887, -6.009099960327148, -6.503399848937988, -6.504199981689453, -6.504300117492676, -6.50439977645874, -6.5046000480651855, -6.505099773406982, -6.505099773406982, -6.505199909210205, -6.505300045013428, -5.82889986038208, -6.008999824523926, -6.891499996185303, -6.8917999267578125, -6.8917999267578125, -6.891900062561035, -6.892000198364258, -6.892000198364258, -6.892000198364258, -6.892000198364258, -6.892000198364258, -6.892099857330322, -6.892099857330322, -6.892099857330322, -6.892099857330322, -6.892099857330322, -6.892300128936768, -6.2245001792907715, -6.224999904632568, -6.225399971008301, -5.829699993133545, -6.008900165557861, -5.473700046539307, -5.829100131988525, -6.007800102233887, -5.475399971008301, -6.505000114440918, -5.065999984741211, -6.50540018081665, -6.007599830627441, -5.1869001388549805, -6.008600234985352, -6.008200168609619, -5.677999973297119, -5.54640007019043, -5.562300205230713, -5.477200031280518, -5.829100131988525, -5.485000133514404, -5.469099998474121, -5.830100059509277, -5.6768999099731445, -5.82919979095459, -5.781400203704834, -5.603499889373779, -6.007500171661377, -5.921000003814697, -5.758200168609619, -5.849899768829346, -5.828800201416016, -5.972099781036377, -6.0065999031066895, -6.007199764251709, -5.791900157928467, -5.792200088500977, -5.792900085449219, -6.069900035858154, -6.070799827575684, -6.070799827575684, -4.797800064086914, -6.457499980926514, -6.457499980926514, -6.457499980926514, -6.457499980926514, -6.457799911499023, -6.457799911499023, -6.457900047302246, -6.457900047302246, -6.457900047302246, -6.457900047302246, -6.458099842071533, -6.4583001136779785, -6.4583001136779785, -6.458700180053711, -6.458700180053711, -6.458799839019775, -6.459099769592285, -6.4593000411987305, -6.45959997177124, -6.466300010681152, -5.595300197601318, -5.395599842071533, -6.070400238037109, -5.574399948120117, -5.789599895477295, -5.573299884796143, -5.792200088500977, -5.404699802398682, -5.574399948120117, -5.7916998863220215, -5.573400020599365, -5.791999816894531, -6.073500156402588, -5.69950008392334, -6.070199966430664, -5.624000072479248, -5.787099838256836, -5.790900230407715, -5.68779993057251, -6.069900035858154, -5.859600067138672, -5.791500091552734, -6.070300102233887, -5.790599822998047, -5.789400100708008, -5.980100154876709, -5.979800224304199, -6.0553998947143555, -6.0680999755859375, -6.068299770355225, -6.06850004196167, -4.783699989318848, -5.617800235748291, -5.79640007019043, -6.014100074768066, -6.014100074768066, -6.014100074768066, -6.0142998695373535, -6.0142998695373535, -6.0183000564575195, -6.292799949645996, -6.293000221252441, -6.29610013961792, -6.2972002029418945, -6.298299789428711, -5.617599964141846, -6.679800033569336, -6.679800033569336, -6.679800033569336, -6.679800033569336, -6.679999828338623, -6.680099964141846, -6.6803998947143555, -6.6803998947143555, -6.680500030517578, -6.680500030517578, -6.680500030517578, -6.680500030517578, -6.680500030517578, -6.680600166320801, -6.680600166320801, -5.621200084686279, -5.022600173950195, -5.466300010681152, -5.466100215911865, -6.292799949645996, -6.014400005340576, -5.801499843597412, -6.294400215148926, -6.014100074768066, -6.0142998695373535, -6.0142998695373535, -5.241000175476074, -5.3471999168396, -5.628399848937988, -5.3333001136779785, -5.300099849700928, -5.8429999351501465, -5.465099811553955, -6.013299942016602, -5.839700222015381, -6.026800155639648, -6.035099983215332, -6.0131001472473145, -6.013500213623047, -5.043000221252441, -5.395100116729736, -5.942500114440918, -5.942599773406982, -5.942699909210205, -5.94350004196167, -6.608399868011475, -6.608699798583984, -6.608799934387207, -6.608799934387207, -6.608799934387207, -6.60890007019043, -6.609000205993652, -6.60890007019043, -6.6092000007629395, -6.6092000007629395, -6.6092000007629395, -6.6092000007629395, -6.6092000007629395, -6.609300136566162, -6.609300136566162, -6.609300136566162, -6.609300136566162, -6.609300136566162, -6.609300136566162, -6.609300136566162, -6.609300136566162, -6.609300136566162, -6.609399795532227, -6.609399795532227, -6.609399795532227, -5.94320011138916, -6.221799850463867, -5.14709997177124, -5.942599773406982, -6.22160005569458, -5.724699974060059, -6.222099781036377, -5.394499778747559, -5.704699993133545, -5.98330020904541, -5.921899795532227, -5.394000053405762, -5.545599937438965, -5.942399978637695, -5.941999912261963, -5.942800045013428, -5.942800045013428, -6.221399784088135, -6.22160005569458, -5.942200183868408, -6.221199989318848, -6.22130012512207, -5.719699859619141, -6.22130012512207, -5.928999900817871, -5.942500114440918, -6.188000202178955, -6.204100131988525, -6.208099842071533, -6.209000110626221, -6.211400032043457, -6.215000152587891]}, \"token.table\": {\"Topic\": [1, 2, 3, 4, 5, 6, 7, 9, 5, 2, 4, 5, 1, 3, 4, 5, 7, 8, 8, 4, 5, 6, 8, 9, 6, 1, 3, 4, 6, 7, 8, 9, 5, 6, 8, 7, 6, 3, 3, 8, 9, 7, 8, 1, 5, 6, 7, 9, 1, 3, 6, 2, 3, 4, 6, 8, 1, 1, 2, 3, 4, 5, 6, 8, 9, 7, 4, 5, 7, 3, 3, 4, 9, 1, 2, 5, 8, 9, 9, 1, 3, 4, 7, 9, 1, 3, 4, 6, 7, 8, 3, 6, 3, 3, 5, 6, 8, 9, 2, 5, 1, 3, 4, 8, 6, 2, 3, 7, 2, 1, 1, 6, 9, 1, 2, 3, 4, 5, 6, 7, 8, 9, 9, 4, 2, 4, 6, 7, 8, 5, 1, 4, 7, 2, 3, 5, 7, 4, 1, 1, 2, 3, 5, 6, 7, 8, 9, 6, 2, 2, 8, 5, 7, 1, 3, 4, 6, 7, 1, 3, 7, 8, 9, 6, 5, 8, 6, 9, 5, 5, 1, 3, 6, 7, 9, 9, 4, 9, 1, 2, 4, 5, 1, 1, 4, 1, 4, 1, 3, 5, 6, 9, 6, 2, 6, 3, 4, 1, 4, 5, 6, 7, 9, 5, 1, 4, 5, 6, 7, 8, 9, 1, 4, 5, 6, 7, 8, 9, 1, 4, 6, 7, 8, 9, 4, 7, 9, 1, 2, 3, 4, 6, 7, 8, 9, 1, 2, 3, 4, 5, 6, 7, 2, 1, 2, 1, 4, 7, 3, 4, 5, 6, 7, 9, 7, 1, 2, 3, 4, 6, 8, 5, 6, 7, 1, 3, 4, 5, 6, 9, 4, 6, 7, 8, 1, 2, 6, 7, 8, 5, 1, 5, 6, 5, 1, 3, 4, 7, 9, 1, 2, 4, 7, 3, 4, 2, 3, 1, 5, 7, 1, 3, 4, 5, 6, 5, 4, 3, 6, 7, 4, 7, 9, 7, 2, 1, 2, 3, 4, 5, 6, 9, 5, 6, 8, 7, 4, 3, 4, 5, 6, 8, 9, 1, 3, 4, 5, 6, 7, 9, 1, 2, 3, 6, 8, 9, 1, 2, 3, 4, 5, 6, 7, 8, 9, 5, 6, 7, 8, 9, 9, 1, 2, 4, 5, 6, 7, 9, 6, 1, 2, 3, 4, 9, 1, 2, 3, 4, 5, 6, 7, 8, 1, 5, 6, 7, 8, 9, 1, 3, 4, 5, 6, 7, 8, 9, 3, 1, 5, 6, 7, 9, 3, 4, 8, 1, 4, 7, 4, 9, 1, 4, 1, 4, 1, 3, 4, 5, 6, 7, 8, 2, 6, 9, 1, 2, 6, 7, 9, 4, 1, 3, 4, 9, 1, 2, 3, 4, 6, 7, 1, 3, 5, 6, 7, 7, 3, 8, 6, 9, 8, 7, 1, 4, 6, 7, 8, 5, 1, 2, 3, 4, 5, 6, 8, 9, 7, 5, 3, 2, 4, 6, 8, 1, 3, 4, 6, 7, 8, 9, 1, 3, 4, 5, 6, 7, 9, 1, 4, 6, 1, 4, 5, 6, 9, 1, 2, 3, 4, 5, 6, 7, 8, 6, 5, 3, 1, 2, 3, 4, 5, 6, 7, 1, 3, 5, 6, 7, 3, 5, 2, 3, 4, 5, 6, 7, 9, 1, 2, 3, 4, 7, 8, 9, 5, 2, 1, 2, 8, 9, 7, 7, 3, 2, 3, 6, 8, 2, 8, 2, 1, 2, 3, 4, 2, 6, 7, 7, 7, 6, 9, 8, 8, 6, 9, 1, 4, 5, 8, 1, 2, 3, 4, 5, 6, 7, 8, 9, 1, 2, 6, 5, 1, 3, 9, 2, 1, 4, 8, 9, 1, 2, 3, 4, 5, 6, 8, 9, 1, 2, 4, 6, 7, 9, 1, 4, 7, 8, 9, 1, 3, 4, 5, 6, 9, 9, 2, 9, 9, 2, 3, 4, 9, 4, 9, 1, 2, 3, 4, 7, 8, 9, 1, 4, 7, 8, 9, 1, 4, 8, 1, 3, 6, 9, 8, 7, 8, 3, 4, 7, 9, 3, 9, 3, 1, 1, 7, 8, 4, 3, 9, 4, 1, 4, 5, 6, 7, 8, 9, 6, 9, 1, 2, 3, 4, 6, 8, 9, 2, 4, 5, 6, 7, 9, 1, 2, 3, 4, 5, 7, 8, 9, 1, 2, 3, 4, 5, 6, 7, 8, 9, 3, 3, 1, 2, 3, 4, 6, 5, 1, 3, 4, 6, 7, 3, 6, 9, 8, 9, 6, 7, 4, 7, 4, 8, 1, 4, 6, 7, 6, 6, 9, 2, 9, 1, 4, 1, 1, 5, 7, 1, 4, 8, 3, 8, 1, 3, 4, 5, 7, 2, 4, 5, 6, 8, 9, 4, 2, 3, 2, 3, 6, 8, 3, 3, 8, 3, 1, 1, 3, 4, 5, 6, 7, 9, 2, 3, 4, 7, 9, 3, 4, 6, 7, 8, 9, 1, 4, 6, 3, 1, 2, 3, 4, 6, 8, 5, 2, 6, 9, 7, 1, 7, 3, 9, 1, 2, 3, 5, 6, 7, 2, 4, 7, 9, 8, 1, 2, 6, 7, 5, 4, 6, 5, 9, 7, 9, 1, 8, 1, 7, 8, 1, 2, 4, 5, 8, 9, 1, 2, 4, 5, 6, 8, 9, 1, 4, 6, 7, 8, 4, 5, 4, 5, 7, 1, 6, 3, 6, 1, 2, 3, 4, 5, 6, 7, 8, 9, 2, 3, 4, 9, 4, 9, 9, 8, 1, 5, 6, 3, 4, 5, 1, 3, 4, 5, 6, 7, 8, 9, 2, 8, 3, 4, 8, 4, 1, 2, 4, 8, 4, 4, 2, 4, 4, 4, 1, 2, 3, 4, 5, 6, 7, 8, 9, 4, 1, 2, 3, 4, 5, 6, 8, 9, 1, 2, 3, 6, 4, 2, 4, 1, 1, 4, 5, 8, 9, 3, 6, 8, 1, 2, 3, 4, 6, 8, 9, 1, 4, 6, 7, 4, 5, 8, 8, 5, 8, 1, 2, 3, 4, 7, 1, 3, 4, 5, 6, 7, 8, 9, 4, 1, 2, 4, 7, 7, 8, 2, 3, 4, 5, 6, 8, 9, 7, 1, 1, 3, 4, 5, 7, 9, 1, 3, 3, 1, 4, 5, 6, 7, 8, 9, 6, 2, 4, 6, 8, 9, 2, 4, 6, 4, 5, 8, 2, 3, 1, 1, 4, 8, 1, 2, 4, 5, 6, 7, 1, 4, 5, 7, 7, 1, 5, 6, 7, 8, 1, 1, 2, 3, 4, 9, 1, 7, 1, 3, 6, 8, 9, 1, 2, 4, 5, 6, 7, 9, 2, 4, 5, 6, 8, 5, 2, 4, 7, 3, 7, 6, 1, 2, 6, 9, 1, 2, 3, 4, 5, 6, 7, 8, 9, 1, 2, 3, 4, 1, 2, 3, 4, 6, 9, 8, 1, 3, 4, 5, 9, 1, 2, 4, 1, 2, 3, 4, 5, 6, 7, 8, 9, 7, 1, 4, 6, 7, 4, 7, 9, 2, 3, 4, 5, 6, 9, 2, 3, 5, 6, 7, 9, 9, 2, 6, 5, 6, 8, 9, 1, 2, 4, 5, 6, 7, 9, 1, 2, 3, 4, 5, 6, 7, 8, 1, 2, 4, 6, 7, 8, 9, 1, 4, 6, 2, 6, 2, 6, 6, 2, 4, 1, 3, 5, 1, 2, 3, 4, 5, 7, 8, 9, 8, 2, 3, 5, 1, 2, 7, 9, 3, 4, 5, 9, 3, 4, 5, 6, 7, 8, 2, 3, 5, 6, 7, 8, 9, 2, 1, 2, 4, 5, 7, 9, 2, 3, 6, 7, 8, 3, 7, 9, 8, 5, 1, 4, 5, 6, 9, 2, 5, 2, 5, 1, 3, 4, 6, 7, 7, 2, 3, 3, 4, 5, 6, 7, 8, 9, 2, 1, 4, 6, 7, 9, 1, 7, 2, 5, 9, 1, 2, 4, 5, 6, 7, 8, 2, 3, 5, 1, 4, 5, 5, 1, 4, 5, 6, 7, 8, 9, 1, 7, 6, 8, 1, 2, 3, 4, 6, 8, 2, 3, 4, 5, 4, 1, 4, 5, 7, 8, 1, 4, 5, 6, 9, 4, 1, 3, 4, 5, 6, 7, 9, 9, 1, 3, 3, 5, 8, 3, 4, 8, 5, 8, 8, 1, 2, 4, 7, 9, 3, 1, 3, 4, 5, 6, 7, 8, 9, 1, 2, 3, 5, 8, 9, 5, 6, 8, 5, 8, 1, 4, 6, 8, 9, 1, 6, 3, 4, 5, 8, 9, 2, 3, 1, 7, 9, 7, 6, 2, 9, 7, 1, 3, 4, 5, 6, 8, 9, 1, 2, 3, 4, 5, 6, 7, 9, 3, 1, 2, 3, 4, 6, 7, 8, 9, 1, 3, 4, 5, 6, 7, 8, 9, 5, 3, 4, 5, 6], \"Freq\": [0.21502596139907837, 0.14335063099861145, 0.07167531549930573, 0.07167531549930573, 0.07167531549930573, 0.2867012619972229, 0.07167531549930573, 0.07167531549930573, 0.909921407699585, 0.19050852954387665, 0.19050852954387665, 0.5715255737304688, 0.24723179638385773, 0.3296424150466919, 0.08241060376167297, 0.16482120752334595, 0.08241060376167297, 0.08241060376167297, 0.9031488299369812, 0.467240571975708, 0.15574686229228973, 0.07787343114614487, 0.233620285987854, 0.07787343114614487, 0.6461972594261169, 0.11484131217002869, 0.15312175452709198, 0.30624350905418396, 0.26796308159828186, 0.07656087726354599, 0.038280438631772995, 0.07656087726354599, 0.2619868814945221, 0.5239737629890442, 0.67912757396698, 0.4827040135860443, 0.8640875816345215, 0.6682089567184448, 0.5790582895278931, 0.19301941990852356, 0.19301941990852356, 0.4827040135860443, 0.9031499028205872, 0.4679226577281952, 0.28075358271598816, 0.09358453005552292, 0.09358453005552292, 0.09358453005552292, 0.12982062995433807, 0.3894619047641754, 0.25964125990867615, 0.3748718798160553, 0.09371796995401382, 0.18743593990802765, 0.18743593990802765, 0.18743593990802765, 0.9300902485847473, 0.1623144894838333, 0.1623144894838333, 0.08115724474191666, 0.20289310812950134, 0.08115724474191666, 0.08115724474191666, 0.04057862237095833, 0.20289310812950134, 0.48266100883483887, 0.3820118010044098, 0.1910059005022049, 0.3820118010044098, 0.6681514382362366, 0.6570693850517273, 0.16426734626293182, 0.16426734626293182, 0.2087414413690567, 0.2087414413690567, 0.2087414413690567, 0.10437072068452835, 0.31311216950416565, 0.45987188816070557, 0.08293477445840836, 0.08293477445840836, 0.49760863184928894, 0.08293477445840836, 0.24880431592464447, 0.09979922324419022, 0.39919689297676086, 0.19959844648838043, 0.19959844648838043, 0.09979922324419022, 0.09979922324419022, 0.5299510955810547, 0.26497554779052734, 0.8902329206466675, 0.10531407594680786, 0.42125630378723145, 0.10531407594680786, 0.21062815189361572, 0.21062815189361572, 0.19680854678153992, 0.7872341871261597, 0.1278509944677353, 0.5114039778709412, 0.2557019889354706, 0.1278509944677353, 0.8640982508659363, 0.4640820026397705, 0.23204100131988525, 0.23204100131988525, 0.6887423396110535, 0.930062472820282, 0.6954805254936218, 0.13909611105918884, 0.13909611105918884, 0.07142218202352524, 0.24997764825820923, 0.14284436404705048, 0.14284436404705048, 0.07142218202352524, 0.1785554587841034, 0.03571109101176262, 0.07142218202352524, 0.07142218202352524, 0.45987579226493835, 0.926892101764679, 0.07876025885343552, 0.15752051770687103, 0.07876025885343552, 0.07876025885343552, 0.6300820708274841, 0.9099565148353577, 0.669500470161438, 0.223166823387146, 0.111583411693573, 0.4613281488418579, 0.3075520992279053, 0.15377604961395264, 0.15377604961395264, 0.8201735019683838, 0.9300986528396606, 0.1729661226272583, 0.05765537545084953, 0.05765537545084953, 0.11531075090169907, 0.3459322452545166, 0.05765537545084953, 0.1729661226272583, 0.05765537545084953, 0.6462323069572449, 0.914496123790741, 0.9144788980484009, 0.6791307926177979, 0.5601822137832642, 0.2800911068916321, 0.14998053014278412, 0.07499026507139206, 0.22497080266475677, 0.44994160532951355, 0.14998053014278412, 0.43911880254745483, 0.0878237634897232, 0.0878237634897232, 0.1756475269794464, 0.0878237634897232, 0.8641152381896973, 0.9099586009979248, 0.9031622409820557, 0.8641208410263062, 0.8344193696975708, 0.6825957298278809, 0.6849777102470398, 0.06833523511886597, 0.2050057053565979, 0.13667047023773193, 0.06833523511886597, 0.4100114107131958, 0.8343499302864075, 0.3720116913318634, 0.5580175518989563, 0.6940413117408752, 0.1388082653284073, 0.06940413266420364, 0.1388082653284073, 0.952982485294342, 0.7589746713638306, 0.1517949253320694, 0.9200859665870667, 0.8886172771453857, 0.26013192534446716, 0.08671063929796219, 0.17342127859592438, 0.43355321884155273, 0.08671063929796219, 0.8640946745872498, 0.6884026527404785, 0.9197475910186768, 0.08856155723333359, 0.8856155872344971, 0.23508033156394958, 0.3134404420852661, 0.07836011052131653, 0.07836011052131653, 0.07836011052131653, 0.15672022104263306, 0.8230411410331726, 0.2492877095937729, 0.18696577847003937, 0.12464385479688644, 0.06232192739844322, 0.18696577847003937, 0.12464385479688644, 0.12464385479688644, 0.40347009897232056, 0.08069401979446411, 0.08069401979446411, 0.16138803958892822, 0.08069401979446411, 0.08069401979446411, 0.08069401979446411, 0.10275905579328537, 0.10275905579328537, 0.10275905579328537, 0.10275905579328537, 0.5137952566146851, 0.10275905579328537, 0.22549831867218018, 0.22549831867218018, 0.45099663734436035, 0.19675537943840027, 0.09837768971920013, 0.06558512896299362, 0.22954794764518738, 0.16396281123161316, 0.03279256448149681, 0.16396281123161316, 0.03279256448149681, 0.11101711541414261, 0.11101711541414261, 0.11101711541414261, 0.11101711541414261, 0.38855990767478943, 0.11101711541414261, 0.055508557707071304, 0.8285681009292603, 0.8327584862709045, 0.6881595849990845, 0.930105984210968, 0.740161120891571, 0.14803223311901093, 0.19967590272426605, 0.19967590272426605, 0.09983795136213303, 0.3993518054485321, 0.09983795136213303, 0.09983795136213303, 0.4826619029045105, 0.07449882477521896, 0.07449882477521896, 0.07449882477521896, 0.6704894304275513, 0.07449882477521896, 0.07449882477521896, 0.1247672289609909, 0.4990689158439636, 0.3743017017841339, 0.19129003584384918, 0.06376335024833679, 0.25505340099334717, 0.3188167214393616, 0.12752670049667358, 0.06376335024833679, 0.7120479941368103, 0.11867466568946838, 0.11867466568946838, 0.6791331768035889, 0.10508250445127487, 0.3152475357055664, 0.21016500890254974, 0.10508250445127487, 0.21016500890254974, 0.9100388288497925, 0.3565952777862549, 0.47546035051345825, 0.11886508762836456, 0.6843920946121216, 0.1290193796157837, 0.5160775184631348, 0.2580387592315674, 0.1290193796157837, 0.4598735272884369, 0.11735566705465317, 0.46942266821861267, 0.31294843554496765, 0.039118554443120956, 0.11599856615066528, 0.811989963054657, 0.9144938588142395, 0.8902255892753601, 0.2671073079109192, 0.5342146158218384, 0.48255208134651184, 0.17217905819416046, 0.1147860437631607, 0.28696510195732117, 0.3443581163883209, 0.05739302188158035, 0.9100285768508911, 0.9605064988136292, 0.8901602029800415, 0.5327647924423218, 0.2663823962211609, 0.8161261081695557, 0.09068068116903305, 0.09068068116903305, 0.48269373178482056, 0.6887373328208923, 0.10722237825393677, 0.10722237825393677, 0.10722237825393677, 0.21444475650787354, 0.10722237825393677, 0.16083356738090515, 0.16083356738090515, 0.2927856743335724, 0.5855713486671448, 0.1463928371667862, 0.48267990350723267, 0.9269022345542908, 0.03413497284054756, 0.68269944190979, 0.06826994568109512, 0.13653989136219025, 0.03413497284054756, 0.06826994568109512, 0.05548490956425667, 0.11096981912851334, 0.3329094648361206, 0.22193963825702667, 0.11096981912851334, 0.05548490956425667, 0.05548490956425667, 0.5120993256568909, 0.08534989506006241, 0.08534989506006241, 0.17069979012012482, 0.17069979012012482, 0.08534989506006241, 0.13219726085662842, 0.033049315214157104, 0.09914793819189072, 0.36354243755340576, 0.06609863042831421, 0.06609863042831421, 0.033049315214157104, 0.19829587638378143, 0.033049315214157104, 0.12455028295516968, 0.12455028295516968, 0.12455028295516968, 0.6227514147758484, 0.45989611744880676, 0.45989176630973816, 0.0726272389292717, 0.0726272389292717, 0.47207704186439514, 0.03631361946463585, 0.25419533252716064, 0.0726272389292717, 0.0726272389292717, 0.8640682697296143, 0.14684875309467316, 0.14684875309467316, 0.2936975061893463, 0.14684875309467316, 0.2936975061893463, 0.23260171711444855, 0.07753390818834305, 0.07753390818834305, 0.1550678163766861, 0.3101356327533722, 0.07753390818834305, 0.07753390818834305, 0.07753390818834305, 0.12575316429138184, 0.25150632858276367, 0.12575316429138184, 0.25150632858276367, 0.25150632858276367, 0.12575316429138184, 0.3335760235786438, 0.0555960051715374, 0.1667880117893219, 0.1111920103430748, 0.1111920103430748, 0.0555960051715374, 0.1111920103430748, 0.0555960051715374, 0.9360231161117554, 0.1320597529411316, 0.1320597529411316, 0.5282390117645264, 0.1320597529411316, 0.1320597529411316, 0.47990500926971436, 0.31993669271469116, 0.15996834635734558, 0.8327628970146179, 0.7399820685386658, 0.14799641072750092, 0.2648579776287079, 0.5297159552574158, 0.9300462007522583, 0.820125162601471, 0.6073835492134094, 0.20246118307113647, 0.46765393018722534, 0.10392308980226517, 0.20784617960453033, 0.051961544901132584, 0.051961544901132584, 0.051961544901132584, 0.10392308980226517, 0.6886110305786133, 0.6462014317512512, 0.45989468693733215, 0.11761967837810516, 0.11761967837810516, 0.11761967837810516, 0.3528590202331543, 0.23523935675621033, 0.9604979753494263, 0.18333810567855835, 0.550014317035675, 0.18333810567855835, 0.8730395436286926, 0.056295085698366165, 0.056295085698366165, 0.1688852608203888, 0.39406558871269226, 0.22518034279346466, 0.056295085698366165, 0.28676021099090576, 0.09558673948049545, 0.3823469579219818, 0.1911734789609909, 0.09558673948049545, 0.732298731803894, 0.7468533515930176, 0.29874134063720703, 0.8133718371391296, 0.16267436742782593, 0.9031322002410889, 0.48269033432006836, 0.07791919261217117, 0.38959595561027527, 0.38959595561027527, 0.07791919261217117, 0.15583838522434235, 0.9099578857421875, 0.043564677238464355, 0.08712935447692871, 0.08712935447692871, 0.08712935447692871, 0.08712935447692871, 0.3920820951461792, 0.08712935447692871, 0.08712935447692871, 0.48263436555862427, 0.6849340796470642, 0.8902201056480408, 0.8285817503929138, 0.8078240752220154, 0.08975822478532791, 0.08975822478532791, 0.14333046972751617, 0.07166523486375809, 0.28666093945503235, 0.21499571204185486, 0.14333046972751617, 0.07166523486375809, 0.07166523486375809, 0.10515441000461578, 0.26288601756095886, 0.21030882000923157, 0.15773160755634308, 0.10515441000461578, 0.10515441000461578, 0.10515441000461578, 0.07666745036840439, 0.8433419466018677, 0.07666745036840439, 0.8207956552505493, 0.1650535762310028, 0.1650535762310028, 0.3301071524620056, 0.3301071524620056, 0.1987251192331314, 0.0993625596165657, 0.0993625596165657, 0.1987251192331314, 0.14904384315013885, 0.0993625596165657, 0.04968127980828285, 0.0993625596165657, 0.86411452293396, 0.7866978645324707, 0.8902289867401123, 0.058825377374887466, 0.11765075474977493, 0.058825377374887466, 0.23530150949954987, 0.11765075474977493, 0.3529522716999054, 0.11765075474977493, 0.1355964094400406, 0.1355964094400406, 0.5423856377601624, 0.1355964094400406, 0.1355964094400406, 0.5382563471794128, 0.2691281735897064, 0.07339425384998322, 0.07339425384998322, 0.22018276154994965, 0.07339425384998322, 0.22018276154994965, 0.14678850769996643, 0.14678850769996643, 0.11258196085691452, 0.11258196085691452, 0.11258196085691452, 0.11258196085691452, 0.11258196085691452, 0.33774587512016296, 0.11258196085691452, 0.909959077835083, 0.9221500158309937, 0.1366572380065918, 0.2733144760131836, 0.2733144760131836, 0.409971684217453, 0.4826945662498474, 0.4826591908931732, 0.8902183771133423, 0.6884310841560364, 0.7635717391967773, 0.09544646739959717, 0.09544646739959717, 0.8285874128341675, 0.6791355609893799, 0.6887149810791016, 0.1318766176700592, 0.3956298530101776, 0.2637532353401184, 0.1318766176700592, 0.14312703907489777, 0.28625407814979553, 0.5725081562995911, 0.4826616942882538, 0.8846258521080017, 0.8641189932823181, 0.4598967134952545, 0.9100655913352966, 0.9030967354774475, 0.8590623140335083, 0.45989495515823364, 0.17756378650665283, 0.4439094364643097, 0.26634567975997925, 0.08878189325332642, 0.08463652431964874, 0.08463652431964874, 0.08463652431964874, 0.16927304863929749, 0.08463652431964874, 0.16927304863929749, 0.25390955805778503, 0.08463652431964874, 0.08463652431964874, 0.6262811422348022, 0.10438018292188644, 0.2087603658437729, 0.9100508689880371, 0.5681624412536621, 0.14204061031341553, 0.28408122062683105, 0.9144914150238037, 0.0555688850581646, 0.7779644131660461, 0.1111377701163292, 0.0555688850581646, 0.13802161812782288, 0.13802161812782288, 0.13802161812782288, 0.06901080906391144, 0.06901080906391144, 0.345054030418396, 0.06901080906391144, 0.06901080906391144, 0.4514563977718353, 0.18058255314826965, 0.09029127657413483, 0.18058255314826965, 0.09029127657413483, 0.45988380908966064, 0.0990123301744461, 0.3960493206977844, 0.0990123301744461, 0.1980246603488922, 0.2970369756221771, 0.16091325879096985, 0.16091325879096985, 0.21455100178718567, 0.10727550089359283, 0.10727550089359283, 0.21455100178718567, 0.45989611744880676, 0.9144896268844604, 0.4598788022994995, 0.8343589305877686, 0.16707248985767365, 0.3341449797153473, 0.16707248985767365, 0.3341449797153473, 0.8587754368782043, 0.8907498717308044, 0.2774220407009125, 0.06935551017522812, 0.03467775508761406, 0.38145530223846436, 0.06935551017522812, 0.03467775508761406, 0.13871102035045624, 0.5204642415046692, 0.14870406687259674, 0.07435203343629837, 0.14870406687259674, 0.07435203343629837, 0.15925787389278412, 0.31851574778556824, 0.47777363657951355, 0.33002015948295593, 0.16501007974147797, 0.16501007974147797, 0.33002015948295593, 0.816230297088623, 0.8849199414253235, 0.9031480550765991, 0.2630804181098938, 0.3946206271648407, 0.2630804181098938, 0.1315402090549469, 0.8901600241661072, 0.4598953425884247, 0.6681760549545288, 0.9306135773658752, 0.7868713736534119, 0.1573742777109146, 0.9031500220298767, 0.9269312024116516, 0.6681448221206665, 0.4599028527736664, 0.8201920986175537, 0.17203077673912048, 0.3870692551136017, 0.12902307510375977, 0.08601538836956024, 0.08601538836956024, 0.08601538836956024, 0.4598957896232605, 0.8641169667243958, 0.4599100649356842, 0.14924117922782898, 0.04974706098437309, 0.09949412196874619, 0.39797648787498474, 0.04974706098437309, 0.14924117922782898, 0.09949412196874619, 0.11991793662309647, 0.47967174649238586, 0.23983587324619293, 0.05995896831154823, 0.05995896831154823, 0.05995896831154823, 0.059186697006225586, 0.059186697006225586, 0.3551201820373535, 0.059186697006225586, 0.11837339401245117, 0.11837339401245117, 0.059186697006225586, 0.11837339401245117, 0.11610852181911469, 0.038702841848134995, 0.07740568369626999, 0.30962273478507996, 0.15481136739253998, 0.07740568369626999, 0.038702841848134995, 0.07740568369626999, 0.07740568369626999, 0.8902162909507751, 0.6681318879127502, 0.0783974751830101, 0.2351924180984497, 0.0783974751830101, 0.3919873535633087, 0.1567949503660202, 0.9187816381454468, 0.4487854242324829, 0.17951416969299316, 0.17951416969299316, 0.08975708484649658, 0.08975708484649658, 0.6691737771034241, 0.16729344427585602, 0.16729344427585602, 0.9030991196632385, 0.45987239480018616, 0.6462323665618896, 0.482576847076416, 0.27611905336380005, 0.5522381067276001, 0.9604588150978088, 0.816194474697113, 0.2965032756328583, 0.07412581890821457, 0.5188807249069214, 0.07412581890821457, 0.6462112069129944, 0.8591559529304504, 0.45990151166915894, 0.39767587184906006, 0.5965138077735901, 0.6072512269020081, 0.20241707563400269, 0.9300498962402344, 0.2671055793762207, 0.5342111587524414, 0.4827040731906891, 0.21817629039287567, 0.727254331111908, 0.07272543013095856, 0.8901464343070984, 0.9031627178192139, 0.2220022976398468, 0.1110011488199234, 0.2220022976398468, 0.2220022976398468, 0.333003431558609, 0.06165705621242523, 0.49325644969940186, 0.12331411242485046, 0.1849711686372757, 0.12331411242485046, 0.06165705621242523, 0.8205453753471375, 0.9144766926765442, 0.8902138471603394, 0.2445591241121292, 0.6113978028297424, 0.1222795620560646, 0.1222795620560646, 0.6681602001190186, 0.8902214169502258, 0.9031451344490051, 0.8021769523620605, 0.7408326268196106, 0.07346697151660919, 0.07346697151660919, 0.22040091454982758, 0.07346697151660919, 0.14693394303321838, 0.22040091454982758, 0.14693394303321838, 0.14186497032642365, 0.07093248516321182, 0.709324836730957, 0.07093248516321182, 0.07093248516321182, 0.3513105511665344, 0.1756552755832672, 0.2634828984737396, 0.0878276377916336, 0.0878276377916336, 0.0878276377916336, 0.250568151473999, 0.1252840757369995, 0.6264203786849976, 0.8902053236961365, 0.20667651295661926, 0.06889217346906662, 0.2755686938762665, 0.3444608747959137, 0.06889217346906662, 0.06889217346906662, 0.9100003242492676, 0.1332547962665558, 0.5330191850662231, 0.2665095925331116, 0.48269122838974, 0.740822970867157, 0.48268923163414, 0.8901631236076355, 0.45989570021629333, 0.07295460999011993, 0.07295460999011993, 0.14590921998023987, 0.29181843996047974, 0.14590921998023987, 0.29181843996047974, 0.12068132311105728, 0.36204397678375244, 0.12068132311105728, 0.36204397678375244, 0.81623375415802, 0.46450182795524597, 0.38708484172821045, 0.07741697132587433, 0.07741697132587433, 0.9099592566490173, 0.9605063199996948, 0.646186351776123, 0.9099676609039307, 0.45987755060195923, 0.28198060393333435, 0.5639612078666687, 0.6276319026947021, 0.2092106193304062, 0.33430206775665283, 0.16715103387832642, 0.5014531016349792, 0.07297642529010773, 0.07297642529010773, 0.21892927587032318, 0.21892927587032318, 0.2919057011604309, 0.14595285058021545, 0.2310168296098709, 0.2310168296098709, 0.28877103328704834, 0.05775420740246773, 0.05775420740246773, 0.11550841480493546, 0.05775420740246773, 0.0738634541630745, 0.7386345267295837, 0.0738634541630745, 0.0738634541630745, 0.0738634541630745, 0.2624433934688568, 0.5248867869377136, 0.9604623317718506, 0.5587984323501587, 0.27939921617507935, 0.18248215317726135, 0.7299286127090454, 0.21634408831596375, 0.6490322947502136, 0.18955017626285553, 0.03791003301739693, 0.11373010277748108, 0.22746020555496216, 0.07582006603479385, 0.11373010277748108, 0.11373010277748108, 0.11373010277748108, 0.03791003301739693, 0.09139803051948547, 0.09139803051948547, 0.7311842441558838, 0.09139803051948547, 0.9269632697105408, 0.4598911702632904, 0.4598948359489441, 0.9031499028205872, 0.1900111436843872, 0.5700334310531616, 0.1900111436843872, 0.8021080493927002, 0.9269676804542542, 0.6848576664924622, 0.1427636593580246, 0.047587890177965164, 0.47587889432907104, 0.09517578035593033, 0.09517578035593033, 0.047587890177965164, 0.09517578035593033, 0.09517578035593033, 0.6894839406013489, 0.22982797026634216, 0.4799005091190338, 0.31993368268013, 0.159966841340065, 0.8202261328697205, 0.07801447808742523, 0.07801447808742523, 0.7801448106765747, 0.07801447808742523, 0.9269619584083557, 0.9269896149635315, 0.05438558757305145, 0.9245550036430359, 0.9269625544548035, 0.926960825920105, 0.08735737204551697, 0.08735737204551697, 0.08735737204551697, 0.17471474409103394, 0.08735737204551697, 0.2183934450149536, 0.08735737204551697, 0.17471474409103394, 0.08735737204551697, 0.9608225226402283, 0.19074150919914246, 0.06358050554990768, 0.06358050554990768, 0.25432202219963074, 0.06358050554990768, 0.19074150919914246, 0.06358050554990768, 0.12716101109981537, 0.1926795393228531, 0.5780386328697205, 0.1926795393228531, 0.8641238212585449, 0.8201972842216492, 0.5271095037460327, 0.26355475187301636, 0.9300572276115417, 0.15873076021671295, 0.3968268930912018, 0.15873076021671295, 0.07936538010835648, 0.23809613287448883, 0.49738818407058716, 0.3315921127796173, 0.16579605638980865, 0.2025013118982315, 0.05062532797455788, 0.10125065594911575, 0.4556279480457306, 0.15187598764896393, 0.05062532797455788, 0.05062532797455788, 0.2533336579799652, 0.0844445526599884, 0.5911118984222412, 0.0844445526599884, 0.28933268785476685, 0.14466634392738342, 0.5786653757095337, 0.6787161827087402, 0.2726920247077942, 0.5453840494155884, 0.3165833353996277, 0.09045238047838211, 0.09045238047838211, 0.4070357084274292, 0.045226190239191055, 0.7408666014671326, 0.15226513147354126, 0.38066282868385315, 0.07613256573677063, 0.07613256573677063, 0.07613256573677063, 0.07613256573677063, 0.15226513147354126, 0.8202957510948181, 0.6575337648391724, 0.14611861109733582, 0.14611861109733582, 0.07305930554866791, 0.2774539291858673, 0.5549078583717346, 0.09289120882749557, 0.09289120882749557, 0.4644560217857361, 0.04644560441374779, 0.04644560441374779, 0.27867361903190613, 0.04644560441374779, 0.7323877215385437, 0.6229430437088013, 0.930038571357727, 0.05438438057899475, 0.7069969773292542, 0.1087687611579895, 0.05438438057899475, 0.05438438057899475, 0.9301027655601501, 0.8902296423912048, 0.8902162313461304, 0.17608386278152466, 0.4695569574832916, 0.05869461968541145, 0.1173892393708229, 0.05869461968541145, 0.1173892393708229, 0.05869461968541145, 0.8641177415847778, 0.1666104644536972, 0.1666104644536972, 0.1666104644536972, 0.1666104644536972, 0.3332209289073944, 0.6887425780296326, 0.2098218947649002, 0.6294656991958618, 0.1481572389602661, 0.1481572389602661, 0.5926289558410645, 0.9144811630249023, 0.6681660413742065, 0.9296596050262451, 0.6159158945083618, 0.15397897362709045, 0.15397897362709045, 0.6298158168792725, 0.08997368812561035, 0.08997368812561035, 0.08997368812561035, 0.08997368812561035, 0.08997368812561035, 0.13025304675102234, 0.2605060935020447, 0.5210121870040894, 0.13025304675102234, 0.4827040731906891, 0.130853533744812, 0.130853533744812, 0.6542676687240601, 0.130853533744812, 0.8162204027175903, 0.9203619956970215, 0.5384041666984558, 0.04486701264977455, 0.04486701264977455, 0.1794680505990982, 0.22433505952358246, 0.821244478225708, 0.7323082685470581, 0.14843548834323883, 0.14843548834323883, 0.14843548834323883, 0.4453064501285553, 0.14843548834323883, 0.13363344967365265, 0.06681672483682632, 0.2672668993473053, 0.06681672483682632, 0.2672668993473053, 0.06681672483682632, 0.13363344967365265, 0.10134400427341461, 0.20268800854682922, 0.20268800854682922, 0.10134400427341461, 0.40537601709365845, 0.6849629878997803, 0.17641416192054749, 0.17641416192054749, 0.5292425155639648, 0.19521833956241608, 0.6832641959190369, 0.8640953898429871, 0.6294288039207458, 0.2098095864057541, 0.8641296029090881, 0.4599034786224365, 0.15476584434509277, 0.07738292217254639, 0.07738292217254639, 0.19345730543136597, 0.07738292217254639, 0.07738292217254639, 0.11607438325881958, 0.27084022760391235, 0.07738292217254639, 0.28409910202026367, 0.17045944929122925, 0.22727927565574646, 0.28409910202026367, 0.2808073163032532, 0.2808073163032532, 0.0702018290758133, 0.2808073163032532, 0.0702018290758133, 0.0702018290758133, 0.903161883354187, 0.11653315275907516, 0.46613261103630066, 0.23306630551815033, 0.11653315275907516, 0.11653315275907516, 0.930014967918396, 0.9144887328147888, 0.9270384907722473, 0.1481011062860489, 0.1851263791322708, 0.11107582598924637, 0.25917690992355347, 0.03702527657151222, 0.03702527657151222, 0.11107582598924637, 0.03702527657151222, 0.07405055314302444, 0.8848719596862793, 0.29813751578330994, 0.14906875789165497, 0.14906875789165497, 0.4472062885761261, 0.30573761463165283, 0.45860642194747925, 0.15286880731582642, 0.6887284517288208, 0.1501898467540741, 0.3003796935081482, 0.3003796935081482, 0.22528477013111115, 0.07509492337703705, 0.10450666397809982, 0.5225333571434021, 0.10450666397809982, 0.10450666397809982, 0.10450666397809982, 0.10450666397809982, 0.45989540219306946, 0.8326357007026672, 0.6462320685386658, 0.9099951982498169, 0.1935563087463379, 0.5806689262390137, 0.1935563087463379, 0.21605485677719116, 0.10802742838859558, 0.21605485677719116, 0.10802742838859558, 0.10802742838859558, 0.16204114258289337, 0.10802742838859558, 0.1732247769832611, 0.08661238849163055, 0.057741593569517136, 0.37532034516334534, 0.08661238849163055, 0.1732247769832611, 0.028870796784758568, 0.028870796784758568, 0.14890609681606293, 0.14890609681606293, 0.14890609681606293, 0.29781219363212585, 0.2233591377735138, 0.07445304840803146, 0.07445304840803146, 0.15701930224895477, 0.15701930224895477, 0.6280772089958191, 0.9221807718276978, 0.8590958714485168, 0.8285742998123169, 0.646202027797699, 0.8641137480735779, 0.9144774675369263, 0.9605263471603394, 0.8775076866149902, 0.38946446776390076, 0.5841966867446899, 0.14534711837768555, 0.14534711837768555, 0.09689807891845703, 0.048449039459228516, 0.3391432762145996, 0.048449039459228516, 0.14534711837768555, 0.048449039459228516, 0.9031499028205872, 0.6895450353622437, 0.1723862588405609, 0.9099639058113098, 0.3444475531578064, 0.1722237765789032, 0.3444475531578064, 0.1722237765789032, 0.5874029397964478, 0.14685073494911194, 0.14685073494911194, 0.14685073494911194, 0.3900049924850464, 0.1560019999742508, 0.2340029925107956, 0.0780009999871254, 0.0780009999871254, 0.0780009999871254, 0.19475124776363373, 0.4868781268596649, 0.09737562388181686, 0.09737562388181686, 0.09737562388181686, 0.09737562388181686, 0.09737562388181686, 0.688744306564331, 0.06416399031877518, 0.12832798063755035, 0.19249196350574493, 0.38498392701148987, 0.12832798063755035, 0.12832798063755035, 0.0840311348438263, 0.12604670226573944, 0.4201556444168091, 0.12604670226573944, 0.2520934045314789, 0.8485503196716309, 0.16971005499362946, 0.8343395590782166, 0.8162296414375305, 0.9099953174591064, 0.48212483525276184, 0.19284993410110474, 0.19284993410110474, 0.09642496705055237, 0.09642496705055237, 0.7473956346511841, 0.21354161202907562, 0.6155115365982056, 0.3077557682991028, 0.2190544605255127, 0.10952723026275635, 0.27381807565689087, 0.32858169078826904, 0.10952723026275635, 0.4826901853084564, 0.8292888402938843, 0.13821479678153992, 0.36605241894721985, 0.21963146328926086, 0.07321048527956009, 0.14642097055912018, 0.14642097055912018, 0.07321048527956009, 0.07321048527956009, 0.9144836664199829, 0.17471297085285187, 0.465901255607605, 0.2329506278038025, 0.05823765695095062, 0.05823765695095062, 0.511886477470398, 0.511886477470398, 0.572868287563324, 0.1636766493320465, 0.1636766493320465, 0.22809098660945892, 0.1710682362318039, 0.1710682362318039, 0.22809098660945892, 0.05702274665236473, 0.11404549330472946, 0.8162329196929932, 0.26942962408065796, 0.5388592481613159, 0.9100285768508911, 0.9300408959388733, 0.4751536250114441, 0.4751536250114441, 0.9100285768508911, 0.144052192568779, 0.19206959009170532, 0.144052192568779, 0.3361217975616455, 0.144052192568779, 0.04801739752292633, 0.04801739752292633, 0.6370798945426941, 0.2123599797487259, 0.6512969136238098, 0.21709898114204407, 0.2794780135154724, 0.2794780135154724, 0.18631868064403534, 0.09315934032201767, 0.09315934032201767, 0.09315934032201767, 0.1667613536119461, 0.1667613536119461, 0.1667613536119461, 0.5002840757369995, 0.9269628524780273, 0.21077755093574524, 0.6323326230049133, 0.14051836729049683, 0.07025918364524841, 0.9031345248222351, 0.43099474906921387, 0.3078534007072449, 0.12314135581254959, 0.12314135581254959, 0.061570677906274796, 0.9269686341285706, 0.09410849958658218, 0.18821699917316437, 0.32937973737716675, 0.04705424979329109, 0.14116275310516357, 0.04705424979329109, 0.14116275310516357, 0.4598901569843292, 0.8327595591545105, 0.6681758761405945, 0.2726862132549286, 0.5453724265098572, 0.1363431066274643, 0.09244630485773087, 0.6471241116523743, 0.18489260971546173, 0.68497234582901, 0.9078696966171265, 0.9031602144241333, 0.8208348751068115, 0.1204722598195076, 0.3614167869091034, 0.1204722598195076, 0.3614167869091034, 0.8920498490333557, 0.22842085361480713, 0.05710521340370178, 0.11421042680740356, 0.17131564021110535, 0.11421042680740356, 0.05710521340370178, 0.17131564021110535, 0.11421042680740356, 0.41058337688446045, 0.16423335671424866, 0.08211667835712433, 0.08211667835712433, 0.08211667835712433, 0.16423335671424866, 0.7863669395446777, 0.16900651156902313, 0.6760260462760925, 0.90999835729599, 0.7787511944770813, 0.16181881725788116, 0.24272823333740234, 0.16181881725788116, 0.16181881725788116, 0.32363763451576233, 0.7408382892608643, 0.6461880803108215, 0.5582318902015686, 0.13955797255039215, 0.20933695137500763, 0.06977898627519608, 0.06977898627519608, 0.2695378065109253, 0.5390756130218506, 0.2513437867164612, 0.2513437867164612, 0.5026875734329224, 0.4820218086242676, 0.8640651702880859, 0.7914120554924011, 0.45987775921821594, 0.48264214396476746, 0.25887423753738403, 0.06471855938434601, 0.12943711876869202, 0.25887423753738403, 0.12943711876869202, 0.12943711876869202, 0.06471855938434601, 0.05270093306899071, 0.05270093306899071, 0.10540186613798141, 0.42160746455192566, 0.05270093306899071, 0.15810279548168182, 0.15810279548168182, 0.05270093306899071, 0.8902138471603394, 0.10907039046287537, 0.05453519523143768, 0.05453519523143768, 0.3272111713886261, 0.2726759612560272, 0.05453519523143768, 0.05453519523143768, 0.10907039046287537, 0.06778174638748169, 0.13556349277496338, 0.27112698554992676, 0.13556349277496338, 0.06778174638748169, 0.06778174638748169, 0.20334525406360626, 0.06778174638748169, 0.8236923813819885, 0.4197049140930176, 0.4197049140930176, 0.08394098281860352, 0.08394098281860352], \"Term\": [\"able\", \"able\", \"able\", \"able\", \"able\", \"able\", \"able\", \"able\", \"acceptable_surety\", \"accounting\", \"accounting\", \"accounting\", \"action\", \"action\", \"action\", \"action\", \"action\", \"action\", \"actively_working\", \"activity\", \"activity\", \"activity\", \"activity\", \"activity\", \"administer\", \"administrative\", \"administrative\", \"administrative\", \"administrative\", \"administrative\", \"administrative\", \"administrative\", \"advisor\", \"advisor\", \"affairs_department\", \"agenda\", \"aggressively_cloud\", \"ago\", \"aid\", \"aid\", \"aid\", \"airline\", \"alignment\", \"along\", \"along\", \"along\", \"along\", \"along\", \"amount\", \"amount\", \"amount\", \"amp\", \"amp\", \"amp\", \"amp\", \"amp\", \"analytic_model\", \"analytics\", \"analytics\", \"analytics\", \"analytics\", \"analytics\", \"analytics\", \"analytics\", \"analytics\", \"another_community\", \"anticipate\", \"anticipate\", \"anticipate\", \"applicant\", \"appropriate\", \"appropriate\", \"appropriate\", \"architecture\", \"architecture\", \"architecture\", \"architecture\", \"architecture\", \"around_prototype\", \"assessment\", \"assessment\", \"assessment\", \"assessment\", \"assessment\", \"assistance\", \"assistance\", \"assistance\", \"assistance\", \"assistance\", \"assistance\", \"attend\", \"attend\", \"attention\", \"automate\", \"automate\", \"automate\", \"automate\", \"automate\", \"automation\", \"automation\", \"award\", \"award\", \"award\", \"award\", \"away\", \"barrier\", \"barrier\", \"barrier\", \"basic_financial\", \"beneficial\", \"beneficiary\", \"beneficiary\", \"beneficiary\", \"benefit\", \"benefit\", \"benefit\", \"benefit\", \"benefit\", \"benefit\", \"benefit\", \"benefit\", \"benefit\", \"biomedical\", \"born\", \"budget\", \"budget\", \"budget\", \"budget\", \"budget\", \"building_partnership\", \"burden\", \"burden\", \"burden\", \"call\", \"call\", \"call\", \"call\", \"cancer\", \"cap\", \"capability\", \"capability\", \"capability\", \"capability\", \"capability\", \"capability\", \"capability\", \"capability\", \"career_path\", \"carefully\", \"catalyze_innovative\", \"categorization\", \"causal\", \"causal\", \"census\", \"census\", \"census\", \"census\", \"census\", \"census_bureau\", \"census_bureau\", \"census_bureau\", \"census_bureau\", \"census_bureau\", \"census_snap\", \"census_tax\", \"census_tract\", \"census_usda\", \"central_repository\", \"chamber_commerce\", \"character\", \"child\", \"child\", \"child\", \"child\", \"child\", \"child_care\", \"child_family\", \"child_family\", \"claim\", \"claim\", \"claim\", \"claim\", \"claim_dataset\", \"clinical\", \"clinical\", \"clinical_registry\", \"clinical_trial\", \"cloud\", \"cloud\", \"cloud\", \"cloud\", \"cloud\", \"cloud_archival\", \"codification\", \"cognitive\", \"cohort\", \"cohort\", \"collaboration\", \"collaboration\", \"collaboration\", \"collaboration\", \"collaboration\", \"collaboration\", \"collaborator\", \"collect\", \"collect\", \"collect\", \"collect\", \"collect\", \"collect\", \"collect\", \"collection\", \"collection\", \"collection\", \"collection\", \"collection\", \"collection\", \"collection\", \"comment\", \"comment\", \"comment\", \"comment\", \"comment\", \"comment\", \"commercialization_innovation\", \"commercialization_innovation\", \"commercialization_innovation\", \"community\", \"community\", \"community\", \"community\", \"community\", \"community\", \"community\", \"community\", \"company\", \"company\", \"company\", \"company\", \"company\", \"company\", \"company\", \"company_financial\", \"company_meet\", \"comparability\", \"competency_education\", \"compile\", \"compile\", \"complex\", \"complex\", \"complex\", \"complex\", \"complex\", \"complex\", \"compliance_costs\", \"comprehensive\", \"comprehensive\", \"comprehensive\", \"comprehensive\", \"comprehensive\", \"comprehensive\", \"concept\", \"concept\", \"concept\", \"conduct\", \"conduct\", \"conduct\", \"conduct\", \"conduct\", \"conduct\", \"confidential\", \"confidential\", \"confidential\", \"congressionally_approve\", \"consistent\", \"consistent\", \"consistent\", \"consistent\", \"consistent\", \"constant\", \"consumer\", \"consumer\", \"consumer\", \"consumer_facing\", \"content\", \"content\", \"content\", \"content\", \"content_solve\", \"contract\", \"contract\", \"contract\", \"contract\", \"contracting\", \"contracting\", \"conventional_arms\", \"corporate_linkage\", \"corruption\", \"corruption\", \"cosmetic\", \"costs\", \"costs\", \"costs\", \"costs\", \"costs\", \"council_domain\", \"coverage\", \"coverage_treatment\", \"credentials\", \"credentials\", \"criminal_justice\", \"criminal_justice\", \"criminal_justice\", \"crosswalk\", \"cube\", \"currently\", \"currently\", \"currently\", \"currently\", \"currently\", \"currently\", \"currently\", \"custom\", \"custom\", \"custom\", \"cybersecurity\", \"daily\", \"dashboard\", \"dashboard\", \"dashboard\", \"dashboard\", \"dashboard\", \"dashboard\", \"database\", \"database\", \"database\", \"database\", \"database\", \"database\", \"database\", \"dataset\", \"dataset\", \"dataset\", \"dataset\", \"dataset\", \"dataset\", \"department\", \"department\", \"department\", \"department\", \"department\", \"department\", \"department\", \"department\", \"department\", \"department_veteran\", \"department_veteran\", \"department_veteran\", \"department_veteran\", \"derivative_financial\", \"description\", \"design\", \"design\", \"design\", \"design\", \"design\", \"design\", \"design\", \"design_drive\", \"detect\", \"detect\", \"detect\", \"detect\", \"detect\", \"determine\", \"determine\", \"determine\", \"determine\", \"determine\", \"determine\", \"determine\", \"determine\", \"developing\", \"developing\", \"developing\", \"developing\", \"developing\", \"developing\", \"development\", \"development\", \"development\", \"development\", \"development\", \"development\", \"development\", \"development\", \"dictionary\", \"digital\", \"digital\", \"digital\", \"digital\", \"digital\", \"direct\", \"direct\", \"direct\", \"disclosure_protection\", \"disorder\", \"disorder\", \"disparity\", \"disparity\", \"dissemination\", \"diver\", \"doc\", \"doc\", \"document\", \"document\", \"document\", \"document\", \"document\", \"document\", \"document\", \"doe\", \"dollar\", \"dollar_weather\", \"domain\", \"domain\", \"domain\", \"domain\", \"domain\", \"drug_seizure\", \"due\", \"due\", \"due\", \"early_childhood\", \"education\", \"education\", \"education\", \"education\", \"education\", \"education\", \"efficiency\", \"efficiency\", \"efficiency\", \"efficiency\", \"efficiency\", \"efficient_effective\", \"element\", \"element\", \"eligible\", \"eligible\", \"eliminate_silo\", \"emergency_room\", \"employer\", \"employer\", \"employer\", \"employer\", \"employer\", \"employer_employer\", \"employment\", \"employment\", \"employment\", \"employment\", \"employment\", \"employment\", \"employment\", \"employment\", \"employment_benefit\", \"end_year\", \"endorse\", \"energy\", \"engagement\", \"engagement\", \"engagement\", \"enhance\", \"enhance\", \"enhance\", \"enhance\", \"enhance\", \"enhance\", \"enhance\", \"environment\", \"environment\", \"environment\", \"environment\", \"environment\", \"environment\", \"environment\", \"epidemic\", \"epidemic\", \"epidemic\", \"error\", \"especially\", \"especially\", \"especially\", \"especially\", \"establish\", \"establish\", \"establish\", \"establish\", \"establish\", \"establish\", \"establish\", \"establish\", \"estimate_snap\", \"eviction\", \"exclude\", \"expand\", \"expand\", \"expand\", \"expand\", \"expand\", \"expand\", \"expand\", \"expect\", \"expect\", \"expect\", \"expect\", \"expect\", \"expensive\", \"expensive\", \"experience\", \"experience\", \"experience\", \"experience\", \"experience\", \"experience\", \"experience\", \"explore\", \"explore\", \"explore\", \"explore\", \"explore\", \"explore\", \"explore\", \"express_strong\", \"extension\", \"external\", \"external\", \"external\", \"external\", \"family_experience\", \"fields_collect\", \"fields_core\", \"filer\", \"financial_aid\", \"financial_aid\", \"financial_aid\", \"financial_market\", \"financial_performance\", \"fix\", \"follow\", \"follow\", \"follow\", \"follow\", \"food\", \"food\", \"food\", \"food_assistance\", \"food_drug\", \"food_insecurity\", \"forecast_development\", \"foreign_assistance\", \"foreignassistance_gov\", \"forensics\", \"foster_economic\", \"foundation\", \"foundation\", \"foundation\", \"foundation\", \"framework\", \"framework\", \"framework\", \"framework\", \"framework\", \"framework\", \"framework\", \"framework\", \"framework\", \"fraud\", \"fraud\", \"fraud\", \"fraud_abuse\", \"fraud_waste\", \"fraud_waste\", \"fraud_waste\", \"front_door\", \"funding\", \"funding\", \"funding\", \"funding\", \"future\", \"future\", \"future\", \"future\", \"future\", \"future\", \"future\", \"future\", \"gap\", \"gap\", \"gap\", \"gap\", \"gap\", \"gather_child\", \"generate\", \"generate\", \"generate\", \"generate\", \"generate\", \"grant\", \"grant\", \"grant\", \"grant\", \"grant\", \"grant\", \"growth_prime\", \"guideline_aggregation\", \"gun\", \"gun_violence\", \"hard\", \"hard\", \"hard\", \"hard\", \"harmonize\", \"head_start\", \"health\", \"health\", \"health\", \"health\", \"health\", \"health\", \"health\", \"health_care\", \"health_care\", \"health_care\", \"health_care\", \"health_care\", \"health_services\", \"health_services\", \"health_services\", \"higher\", \"higher\", \"higher\", \"higher\", \"highly_rural\", \"homelessness\", \"homelessness_veteran\", \"housing\", \"housing\", \"housing\", \"housing\", \"housing_voucher\", \"human_costs\", \"identification_code\", \"identifier_provider\", \"identity\", \"identity\", \"ides\", \"iei_slds\", \"igc\", \"illustrate\", \"indicator_opioid\", \"industry\", \"industry\", \"industry\", \"industry\", \"industry\", \"industry\", \"industry_dependent\", \"infant_child\", \"infrastructure_accessible\", \"initiative\", \"initiative\", \"initiative\", \"initiative\", \"initiative\", \"initiative\", \"initiative\", \"innovation\", \"innovation\", \"innovation\", \"innovation\", \"innovation\", \"innovation\", \"insight\", \"insight\", \"insight\", \"insight\", \"insight\", \"insight\", \"insight\", \"insight\", \"integrate\", \"integrate\", \"integrate\", \"integrate\", \"integrate\", \"integrate\", \"integrate\", \"integrate\", \"integrate\", \"integrate_classification\", \"integrate_dictionary\", \"integration\", \"integration\", \"integration\", \"integration\", \"integration\", \"intelligent_assistant\", \"intend\", \"intend\", \"intend\", \"intend\", \"intend\", \"interface\", \"interface\", \"interface\", \"internal_efficiency\", \"international_collaboration\", \"intuitive\", \"investigating\", \"involvement\", \"involvement\", \"isi_slds\", \"ivy_tech\", \"job\", \"job\", \"job\", \"job\", \"job_apprenticeship\", \"job_seeker\", \"juvenile_recidivism\", \"know\", \"know\", \"lab\", \"lab\", \"labor_market\", \"largely\", \"largely\", \"law_monthly\", \"laws\", \"laws\", \"laws\", \"le_likely\", \"leader_working\", \"leadership\", \"leadership\", \"leadership\", \"leadership\", \"leadership\", \"learning\", \"learning\", \"learning\", \"learning\", \"learning\", \"learning\", \"learning_community\", \"learning_integrity\", \"learning_pathway\", \"legal\", \"legal\", \"legal\", \"legal\", \"legal_hold\", \"legal_identifier\", \"legislation\", \"lei\", \"lender\", \"leverage\", \"leverage\", \"leverage\", \"leverage\", \"leverage\", \"leverage\", \"leverage\", \"life\", \"life\", \"life\", \"life\", \"life\", \"likely\", \"likely\", \"likely\", \"likely\", \"likely\", \"likely\", \"line\", \"line\", \"line\", \"listing\", \"long_term\", \"long_term\", \"long_term\", \"long_term\", \"long_term\", \"long_term\", \"longitudinal_dataset\", \"look\", \"look\", \"look\", \"loser\", \"losses\", \"lottery_winner\", \"low_poverty\", \"lower_economic\", \"manage\", \"manage\", \"manage\", \"manage\", \"manage\", \"manage\", \"mapping\", \"mapping\", \"mapping\", \"mapping\", \"mapping_veteran\", \"market\", \"market\", \"market\", \"market\", \"market_earnings\", \"mat\", \"maturity_model\", \"measuring_ability\", \"medical_institute\", \"medicine\", \"medicine\", \"meet_requirement\", \"meet_requirement\", \"mental_health\", \"mental_health\", \"mental_health\", \"method\", \"method\", \"method\", \"method\", \"method\", \"method\", \"metrics\", \"metrics\", \"metrics\", \"metrics\", \"metrics\", \"metrics\", \"metrics\", \"million\", \"million\", \"million\", \"million\", \"million\", \"minimize\", \"minimize\", \"minority_technology\", \"miss\", \"miss\", \"mobile\", \"mobile\", \"mobility\", \"mobility\", \"model\", \"model\", \"model\", \"model\", \"model\", \"model\", \"model\", \"model\", \"model\", \"month\", \"month\", \"month\", \"month\", \"monthly_number\", \"movement\", \"multi_billion\", \"municipality\", \"natural_processing\", \"natural_processing\", \"natural_processing\", \"neighborhood\", \"nine\", \"notification\", \"number\", \"number\", \"number\", \"number\", \"number\", \"number\", \"number\", \"number\", \"obligation\", \"obligation\", \"occur\", \"occur\", \"occur\", \"opioid_disorder\", \"opioid_epidemic\", \"opioid_epidemic\", \"opioid_epidemic\", \"opioid_epidemic\", \"opioid_harm\", \"opioid_misuse\", \"opioid_overdose\", \"opioid_overdose\", \"opioid_prescription\", \"opioid_supply\", \"opportunity\", \"opportunity\", \"opportunity\", \"opportunity\", \"opportunity\", \"opportunity\", \"opportunity\", \"opportunity\", \"opportunity\", \"orientation\", \"others\", \"others\", \"others\", \"others\", \"others\", \"others\", \"others\", \"others\", \"outside\", \"outside\", \"outside\", \"overcome\", \"overdose\", \"pain\", \"pain\", \"paper_bond\", \"part\", \"part\", \"part\", \"part\", \"part\", \"particular\", \"particular\", \"particular\", \"partner\", \"partner\", \"partner\", \"partner\", \"partner\", \"partner\", \"partner\", \"partnership\", \"partnership\", \"partnership\", \"partnership\", \"patent\", \"patent\", \"patent\", \"patent_patent\", \"patent_trademark\", \"patent_trademark\", \"patient\", \"patient\", \"patient\", \"patient\", \"patient\", \"patient_care\", \"pattern\", \"pattern\", \"pattern\", \"pattern\", \"pattern\", \"pattern\", \"pattern\", \"pay_success\", \"payment\", \"payment\", \"payment\", \"payment\", \"percent\", \"percent\", \"performance\", \"performance\", \"performance\", \"performance\", \"performance\", \"performance\", \"performance\", \"pew\", \"pharmacy\", \"phi\", \"pilot\", \"pilot\", \"pilot\", \"pilot\", \"pilot\", \"planner\", \"point_entry\", \"poise\", \"population\", \"population\", \"population\", \"population\", \"population\", \"population\", \"population\", \"population_survey\", \"portal\", \"portal\", \"portal\", \"portal\", \"portal\", \"predictable_reliable\", \"previous\", \"previous\", \"previously\", \"previously\", \"previously\", \"primary_indicator\", \"primary_storage\", \"principal\", \"prison\", \"prison\", \"prison\", \"procedure\", \"procedure\", \"procedure\", \"procedure\", \"procedure\", \"procedure\", \"processing\", \"processing\", \"processing\", \"processing\", \"progress_payment\", \"proposal\", \"proposal\", \"proposal\", \"proposal\", \"propose_budget\", \"protocol\", \"provider\", \"provider\", \"provider\", \"provider\", \"provider\", \"provider_identifier\", \"provider_readiness\", \"publish\", \"publish\", \"publish\", \"publish\", \"publish\", \"question\", \"question\", \"question\", \"question\", \"question\", \"question\", \"question\", \"quickly\", \"quickly\", \"quickly\", \"quickly\", \"quickly\", \"read\", \"regulate\", \"regulate\", \"regulate\", \"regulatory\", \"regulatory\", \"relatively\", \"reliable\", \"reliable\", \"remains_neutral\", \"reminder\", \"reporting\", \"reporting\", \"reporting\", \"reporting\", \"reporting\", \"reporting\", \"reporting\", \"reporting\", \"reporting\", \"request\", \"request\", \"request\", \"request\", \"requirement\", \"requirement\", \"requirement\", \"requirement\", \"requirement\", \"requirement\", \"resident_urban\", \"respond\", \"respond\", \"respond\", \"respond\", \"respond\", \"respondent_burden\", \"responsiveness\", \"retail_sales\", \"risk\", \"risk\", \"risk\", \"risk\", \"risk\", \"risk\", \"risk\", \"risk\", \"risk\", \"road\", \"role\", \"role\", \"role\", \"role\", \"safety\", \"safety\", \"safety\", \"save_life\", \"scale\", \"scale\", \"scale\", \"scale\", \"scale\", \"school\", \"school\", \"school\", \"school\", \"school\", \"school\", \"seasonal_catalyze\", \"sec\", \"seeker\", \"self_sustain\", \"sentiment\", \"sentiment\", \"sentiment\", \"service\", \"service\", \"service\", \"service\", \"service\", \"service\", \"service\", \"services\", \"services\", \"services\", \"services\", \"services\", \"services\", \"services\", \"services\", \"similar\", \"similar\", \"similar\", \"similar\", \"similar\", \"similar\", \"similar\", \"skill\", \"skill\", \"skill\", \"smart_grid\", \"snap_administrative\", \"snap_applicant\", \"snap_benefit\", \"snap_participant\", \"snap_reporting\", \"social_economic\", \"south\", \"standardization\", \"standardization\", \"standardize\", \"standardize\", \"standardize\", \"standardize\", \"standardize\", \"standardize\", \"standardize\", \"standardize\", \"standardize_development\", \"statement\", \"statement\", \"statistics_wage\", \"stewardship\", \"stewardship\", \"stewardship\", \"stewardship\", \"storage\", \"storage\", \"storage\", \"storage\", \"store\", \"store\", \"store\", \"store\", \"store\", \"store\", \"streamline\", \"streamline\", \"streamline\", \"streamline\", \"streamline\", \"streamline\", \"streamline\", \"streamline_procurement\", \"structure\", \"structure\", \"structure\", \"structure\", \"structure\", \"structure\", \"student\", \"student\", \"student\", \"student\", \"student\", \"student_aid\", \"student_aid\", \"sub_selection\", \"suicide_veteran\", \"summit_consult\", \"supporting\", \"supporting\", \"supporting\", \"supporting\", \"supporting\", \"surety\", \"surety\", \"surety_bond\", \"surety_bond\", \"survey\", \"survey\", \"survey\", \"survey\", \"survey\", \"survey_lottery\", \"tag\", \"tag\", \"take\", \"take\", \"take\", \"take\", \"take\", \"take\", \"take\", \"talk\", \"target\", \"target\", \"target\", \"target\", \"target\", \"task_force\", \"task_force\", \"taxonomy\", \"taxonomy\", \"taxonomy\", \"technology\", \"technology\", \"technology\", \"technology\", \"technology\", \"technology\", \"technology_engineering\", \"thinking\", \"thinking\", \"tip\", \"toolkit\", \"traditional\", \"traditional\", \"traffic_person\", \"training\", \"training\", \"training\", \"training\", \"training\", \"training\", \"training\", \"training_provider\", \"training_provider\", \"transit\", \"transit\", \"transparency\", \"transparency\", \"transparency\", \"transparency\", \"transparency\", \"transparency\", \"treasury\", \"treasury\", \"treasury\", \"treasury\", \"treatment_capacity\", \"two\", \"two\", \"two\", \"two\", \"two_week\", \"type\", \"type\", \"type\", \"type\", \"type\", \"type_drug\", \"understanding\", \"understanding\", \"understanding\", \"understanding\", \"understanding\", \"understanding\", \"understanding\", \"underway\", \"union_order\", \"universal_identification\", \"unstructured\", \"unstructured\", \"unstructured\", \"update\", \"update\", \"update\", \"upgrade\", \"urban_rural\", \"urban_versus\", \"urge_doc\", \"utilization\", \"utilization\", \"utilization\", \"utilization\", \"vacancy\", \"value\", \"value\", \"value\", \"value\", \"value\", \"value\", \"value\", \"value\", \"various\", \"various\", \"various\", \"various\", \"various\", \"various\", \"vet\", \"veteran_affairs\", \"veteran_affairs\", \"veteran_currently\", \"veteran_suicide\", \"visualization\", \"visualization\", \"visualization\", \"visualization\", \"visualization\", \"vital\", \"ward\", \"warehouse\", \"warehouse\", \"warehouse\", \"warehouse\", \"warehouse\", \"water\", \"water\", \"weather\", \"weather\", \"weather\", \"weather_variety\", \"web_design\", \"web_service\", \"welcome_trust\", \"winter\", \"without\", \"without\", \"without\", \"without\", \"without\", \"without\", \"without\", \"workforce\", \"workforce\", \"workforce\", \"workforce\", \"workforce\", \"workforce\", \"workforce\", \"workforce\", \"workforce_connectivity\", \"working\", \"working\", \"working\", \"working\", \"working\", \"working\", \"working\", \"working\", \"year\", \"year\", \"year\", \"year\", \"year\", \"year\", \"year\", \"year\", \"year_year\", \"years\", \"years\", \"years\", \"years\"]}, \"R\": 30, \"lambda.step\": 0.01, \"plot.opts\": {\"xlab\": \"PC1\", \"ylab\": \"PC2\"}, \"topic.order\": [1, 2, 3, 4, 5, 6, 7, 8, 9]};\n",
       "\n",
       "function LDAvis_load_lib(url, callback){\n",
       "  var s = document.createElement('script');\n",
       "  s.src = url;\n",
       "  s.async = true;\n",
       "  s.onreadystatechange = s.onload = callback;\n",
       "  s.onerror = function(){console.warn(\"failed to load library \" + url);};\n",
       "  document.getElementsByTagName(\"head\")[0].appendChild(s);\n",
       "}\n",
       "\n",
       "if(typeof(LDAvis) !== \"undefined\"){\n",
       "   // already loaded: just create the visualization\n",
       "   !function(LDAvis){\n",
       "       new LDAvis(\"#\" + \"ldavis_el24326112183524952584371722\", ldavis_el24326112183524952584371722_data);\n",
       "   }(LDAvis);\n",
       "}else if(typeof define === \"function\" && define.amd){\n",
       "   // require.js is available: use it to load d3/LDAvis\n",
       "   require.config({paths: {d3: \"https://cdnjs.cloudflare.com/ajax/libs/d3/3.5.5/d3.min\"}});\n",
       "   require([\"d3\"], function(d3){\n",
       "      window.d3 = d3;\n",
       "      LDAvis_load_lib(\"https://cdn.rawgit.com/bmabey/pyLDAvis/files/ldavis.v1.0.0.js\", function(){\n",
       "        new LDAvis(\"#\" + \"ldavis_el24326112183524952584371722\", ldavis_el24326112183524952584371722_data);\n",
       "      });\n",
       "    });\n",
       "}else{\n",
       "    // require.js not available: dynamically load d3 & LDAvis\n",
       "    LDAvis_load_lib(\"https://cdnjs.cloudflare.com/ajax/libs/d3/3.5.5/d3.min.js\", function(){\n",
       "         LDAvis_load_lib(\"https://cdn.rawgit.com/bmabey/pyLDAvis/files/ldavis.v1.0.0.js\", function(){\n",
       "                 new LDAvis(\"#\" + \"ldavis_el24326112183524952584371722\", ldavis_el24326112183524952584371722_data);\n",
       "            })\n",
       "         });\n",
       "}\n",
       "</script>"
      ],
      "text/plain": [
       "<IPython.core.display.HTML object>"
      ]
     },
     "execution_count": 140,
     "metadata": {},
     "output_type": "execute_result"
    }
   ],
   "source": [
    "dictionary = gensim.corpora.Dictionary.load('uc_corpus_path/dictionary.gensim')\n",
    "corpus = pickle.load(open('uc_corpus_path/corpus.pkl', 'rb'))\n",
    "lda = gensim.models.ldamodel.LdaModel.load('uc_corpus_path/model.gensim')\n",
    "lda_display = pyLDAvis.gensim.prepare(lda, corpus, dictionary, sort_topics=False)\n",
    "\n",
    "pyLDAvis.display(lda_display)           #to display inline\n",
    "#pyLDAvis.show(lda_display)             #to display in browser"
   ]
  },
  {
   "cell_type": "markdown",
   "metadata": {},
   "source": [
    "# Writing Topic Shares to Excel"
   ]
  },
  {
   "cell_type": "markdown",
   "metadata": {},
   "source": [
    "### Use Cases\n",
    "The model will be the one saved above using 7 topics with 8 keywords"
   ]
  },
  {
   "cell_type": "code",
   "execution_count": 142,
   "metadata": {},
   "outputs": [],
   "source": [
    "dictionary = gensim.corpora.Dictionary.load('uc_corpus_path/dictionary.gensim')\n",
    "corpus = pickle.load(open('uc_corpus_path/corpus.pkl', 'rb'))\n",
    "lda = gensim.models.ldamodel.LdaModel.load('uc_corpus_path/model.gensim')\n",
    "lda_display = pyLDAvis.gensim.prepare(lda, corpus, dictionary, sort_topics=False)\n",
    "pyLDAvis.save_html(data=lda_display,fileobj='Use Case Topics.html')"
   ]
  },
  {
   "cell_type": "code",
   "execution_count": 143,
   "metadata": {},
   "outputs": [],
   "source": [
    "use_case_topics = ['Healthcare','Finance','Financial Aid','Pilot Programs','Other','Employment','Regulation',\n",
    "                   'Foreign Affairs and Veterans','Children']\n",
    "use_case_topic_cols = []\n",
    "for topic in use_case_topics:\n",
    "    use_case_topic_col = f'Use Case Topic - {topic}'\n",
    "    use_case_topic_cols.append(use_case_topic_col)\n",
    "    df[use_case_topic_col] = np.nan"
   ]
  },
  {
   "cell_type": "code",
   "execution_count": 144,
   "metadata": {},
   "outputs": [],
   "source": [
    "for i, doc in enumerate(corpus):\n",
    "    for topics in lda.get_document_topics(bow=doc):\n",
    "        topic_num = topics[0]\n",
    "        topic_share = topics[1] \n",
    "        df.at[i,f'Use Case Topic - {use_case_topics[topic_num]}'] = topic_share  "
   ]
  },
  {
   "cell_type": "code",
   "execution_count": 145,
   "metadata": {},
   "outputs": [
    {
     "data": {
      "text/plain": [
       "True"
      ]
     },
     "execution_count": 145,
     "metadata": {},
     "output_type": "execute_result"
    }
   ],
   "source": [
    "#make sure every doc has at least one topic score\n",
    "df[use_case_topic_cols].dropna(how='all').shape[0] == df.shape[0]"
   ]
  },
  {
   "cell_type": "code",
   "execution_count": 146,
   "metadata": {},
   "outputs": [],
   "source": [
    "df['Primary Use Case Topic'] = np.nan\n",
    "#Create Col with name of most prevalent topic\n",
    "primary_topics = []\n",
    "for row in df[use_case_topic_cols].values:\n",
    "    values = list(np.nan_to_num(row))\n",
    "    max_value = max(values)\n",
    "    max_index = values.index(max_value)\n",
    "    primary_topics.append(use_case_topics[max_index])\n",
    "\n",
    "df['Primary Use Case Topic'] = primary_topics"
   ]
  },
  {
   "cell_type": "markdown",
   "metadata": {},
   "source": [
    "### Best Practices\n",
    "Need to run and save best model in the other notebook first!"
   ]
  },
  {
   "cell_type": "code",
   "execution_count": 148,
   "metadata": {},
   "outputs": [],
   "source": [
    "bp_comments_df = pd.read_excel(r'assets/Federal Data Strategy Comments_UsecaseTaggingAssignments_CombinedAll_v2.xlsx',\n",
    "                              sheet_name='All Comments',\n",
    "                              usecols=11)\n",
    "\n",
    "bp_comments_df['Principle'] = bp_comments_df['Principle'].apply(upper_apply)\n",
    "bp_comments_df['Best Practice'] = bp_comments_df['Best Practice'].apply(upper_apply)\n",
    "bp_comments_df['Use Case'] = bp_comments_df['Use Case'].apply(upper_apply)\n",
    "bp_comments_df['Mechanism'] = bp_comments_df['Mechanism'].apply(upper_apply)\n",
    "bp_comments_df['Other'] = bp_comments_df['Other'].apply(upper_apply)\n",
    "bp_comments_df['Exclude'] = bp_comments_df['Exclude'].apply(upper_apply)\n",
    "\n",
    "bp_df = bp_comments_df[(bp_comments_df[\"Exclude\"] != \"X\")&((bp_comments_df['Best Practice'] == \"X\"))].dropna(subset=['Instance']).reset_index().drop(labels='index',axis=1)"
   ]
  },
  {
   "cell_type": "code",
   "execution_count": 149,
   "metadata": {},
   "outputs": [],
   "source": [
    "bp_dictionary = gensim.corpora.Dictionary.load('bp_corpus_path/dictionary.gensim')\n",
    "bp_corpus = pickle.load(open('bp_corpus_path/corpus.pkl', 'rb'))\n",
    "bp_lda = gensim.models.ldamodel.LdaModel.load('bp_corpus_path/model.gensim')\n",
    "bp_lda_display = pyLDAvis.gensim.prepare(bp_lda, bp_corpus, bp_dictionary, sort_topics=False)\n",
    "pyLDAvis.save_html(data=bp_lda_display, fileobj='Best Practice Topics.html')"
   ]
  },
  {
   "cell_type": "code",
   "execution_count": 150,
   "metadata": {},
   "outputs": [],
   "source": [
    "best_practice_topics = ['Governance','Privacy and Security','Open Access','Usability','Quality and Standards']\n",
    "best_practice_topic_cols = []\n",
    "for topic in best_practice_topics:\n",
    "    best_practice_topic_col = f'Best Practice Topic - {topic}'\n",
    "    best_practice_topic_cols.append(best_practice_topic_col)\n",
    "    bp_df[best_practice_topic_col] = np.nan"
   ]
  },
  {
   "cell_type": "code",
   "execution_count": 151,
   "metadata": {},
   "outputs": [],
   "source": [
    "for i, doc in enumerate(bp_corpus):\n",
    "    for topics in bp_lda.get_document_topics(bow=doc):\n",
    "        topic_num = topics[0]\n",
    "        topic_share = topics[1] \n",
    "        bp_df.at[i,f'Best Practice Topic - {best_practice_topics[topic_num]}'] = topic_share  "
   ]
  },
  {
   "cell_type": "code",
   "execution_count": 152,
   "metadata": {},
   "outputs": [
    {
     "data": {
      "text/plain": [
       "True"
      ]
     },
     "execution_count": 152,
     "metadata": {},
     "output_type": "execute_result"
    }
   ],
   "source": [
    "#make sure every doc has at least one topic score\n",
    "bp_df[best_practice_topic_cols].dropna(how='all').shape[0] == bp_df.shape[0]"
   ]
  },
  {
   "cell_type": "code",
   "execution_count": 153,
   "metadata": {},
   "outputs": [],
   "source": [
    "bp_df['Primary Best Practice Topic'] = np.nan\n",
    "#Create Col with name of most prevalent topic\n",
    "primary_topics = []\n",
    "for row in bp_df[best_practice_topic_cols].values:\n",
    "    values = list(np.nan_to_num(row))\n",
    "    max_value = max(values)\n",
    "    max_index = values.index(max_value)\n",
    "    primary_topics.append(best_practice_topics[max_index])\n",
    "\n",
    "bp_df['Primary Best Practice Topic'] = primary_topics"
   ]
  },
  {
   "cell_type": "markdown",
   "metadata": {},
   "source": [
    "### Write it all to one Excel file"
   ]
  },
  {
   "cell_type": "code",
   "execution_count": 154,
   "metadata": {},
   "outputs": [],
   "source": [
    "writer = pd.ExcelWriter('Federal Data Strategy Comments.xlsx')\n",
    "comments_df.to_excel(writer,sheet_name='All Comments',index=False)\n",
    "df.to_excel(writer,sheet_name='Use Cases',index=False)\n",
    "bp_df.to_excel(writer,sheet_name='Best Practices',index=False)\n",
    "writer.save()"
   ]
  },
  {
   "cell_type": "markdown",
   "metadata": {},
   "source": [
    "## Create word docs with top instances for each topic\n",
    "For each topic, create a word doc for the top 50% of instances within that topic."
   ]
  },
  {
   "cell_type": "code",
   "execution_count": 155,
   "metadata": {},
   "outputs": [],
   "source": [
    "bp_doc_counts = round(bp_df['Primary Best Practice Topic'].value_counts() / 2).to_dict()\n",
    "uc_doc_counts = round(df['Primary Use Case Topic'].value_counts() / 2).to_dict()"
   ]
  },
  {
   "cell_type": "code",
   "execution_count": 156,
   "metadata": {},
   "outputs": [],
   "source": [
    "bp_doc_path = os.path.join(os.getcwd(),'bp_word_docs')\n",
    "\n",
    "#if the path doesn't exist, make it\n",
    "if not os.path.exists(bp_doc_path):\n",
    "    os.makedirs(bp_doc_path)\n",
    "    \n",
    "#if the path exists, delete all the files in it\n",
    "else:\n",
    "    for dirpath, dirnames, filenames in os.walk(bp_doc_path):\n",
    "        for file_name in filenames:\n",
    "            file_path = os.path.join(dirpath,file_name)\n",
    "            os.remove(file_path)\n",
    "\n",
    "for k in bp_doc_counts:\n",
    "    rows = bp_df[bp_df['Primary Best Practice Topic'] == k].sort_values(by=f'Best Practice Topic - {k}',ascending=False).head(int(bp_doc_counts[k]))\n",
    "    for i, instance in enumerate(rows['Instance'].str.strip()):\n",
    "        document = Document()\n",
    "        heading = f'Best Practices - {k} - #{i+1}'\n",
    "        document.add_heading(heading, 0)\n",
    "        p = document.add_paragraph(instance)\n",
    "        file_path = os.path.join(bp_doc_path,heading+'.docx')\n",
    "        document.save(file_path)\n"
   ]
  },
  {
   "cell_type": "code",
   "execution_count": 157,
   "metadata": {},
   "outputs": [],
   "source": [
    "uc_doc_path = os.path.join(os.getcwd(),'uc_word_docs')\n",
    "\n",
    "#if the path doesn't exist, make it\n",
    "if not os.path.exists(uc_doc_path):\n",
    "    os.makedirs(uc_doc_path)\n",
    "    \n",
    "#if the path exists, delete all the files in it\n",
    "else:\n",
    "    for dirpath, dirnames, filenames in os.walk(uc_doc_path):\n",
    "        for file_name in filenames:\n",
    "            file_path = os.path.join(dirpath,file_name)\n",
    "            os.remove(file_path)\n",
    "\n",
    "for k in uc_doc_counts:\n",
    "    rows = df[df['Primary Use Case Topic'] == k].sort_values(by=f'Use Case Topic - {k}',ascending=False).head(int(uc_doc_counts[k]))\n",
    "    for i, instance in enumerate(rows['Instance'].str.strip()):\n",
    "        document = Document()\n",
    "        heading = f'Use Cases - {k} - #{i+1}'\n",
    "        document.add_heading(heading, 0)\n",
    "        p = document.add_paragraph(instance)\n",
    "        file_path = os.path.join(uc_doc_path,heading+'.docx')\n",
    "        document.save(file_path)\n"
   ]
  }
 ],
 "metadata": {
  "kernelspec": {
   "display_name": "Python 3",
   "language": "python",
   "name": "python3"
  },
  "language_info": {
   "codemirror_mode": {
    "name": "ipython",
    "version": 3
   },
   "file_extension": ".py",
   "mimetype": "text/x-python",
   "name": "python",
   "nbconvert_exporter": "python",
   "pygments_lexer": "ipython3",
   "version": "3.6.5"
  }
 },
 "nbformat": 4,
 "nbformat_minor": 2
}
